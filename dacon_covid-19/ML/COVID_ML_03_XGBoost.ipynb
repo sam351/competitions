{
 "cells": [
  {
   "cell_type": "code",
   "execution_count": 1,
   "metadata": {},
   "outputs": [
    {
     "name": "stderr",
     "output_type": "stream",
     "text": [
      "Using TensorFlow backend.\n"
     ]
    }
   ],
   "source": [
    "import numpy as np\n",
    "import pandas as pd\n",
    "import datetime\n",
    "\n",
    "from imblearn.over_sampling import SMOTE\n",
    "from sklearn.model_selection import train_test_split\n",
    "from sklearn.preprocessing import LabelEncoder\n",
    "from xgboost import XGBClassifier\n",
    "from xgboost import plot_importance\n",
    "\n",
    "import matplotlib.pyplot as plt"
   ]
  },
  {
   "cell_type": "markdown",
   "metadata": {},
   "source": [
    "## 1. Load data\n",
    "- I'm using the files that were updated at **April 21st**\n",
    "- ref : https://github.com/jihoo-kim/Data-Science-for-COVID-19"
   ]
  },
  {
   "cell_type": "code",
   "execution_count": 2,
   "metadata": {},
   "outputs": [
    {
     "name": "stdout",
     "output_type": "stream",
     "text": [
      "PatientInfo.csv shape : (3326, 18)\n",
      "      → datset shape : (1704, 18)\n"
     ]
    },
    {
     "data": {
      "text/html": [
       "<div>\n",
       "<style scoped>\n",
       "    .dataframe tbody tr th:only-of-type {\n",
       "        vertical-align: middle;\n",
       "    }\n",
       "\n",
       "    .dataframe tbody tr th {\n",
       "        vertical-align: top;\n",
       "    }\n",
       "\n",
       "    .dataframe thead th {\n",
       "        text-align: right;\n",
       "    }\n",
       "</style>\n",
       "<table border=\"1\" class=\"dataframe\">\n",
       "  <thead>\n",
       "    <tr style=\"text-align: right;\">\n",
       "      <th></th>\n",
       "      <th>patient_id</th>\n",
       "      <th>global_num</th>\n",
       "      <th>sex</th>\n",
       "      <th>birth_year</th>\n",
       "      <th>age</th>\n",
       "      <th>country</th>\n",
       "      <th>province</th>\n",
       "      <th>city</th>\n",
       "      <th>disease</th>\n",
       "      <th>infection_case</th>\n",
       "      <th>infection_order</th>\n",
       "      <th>infected_by</th>\n",
       "      <th>contact_number</th>\n",
       "      <th>symptom_onset_date</th>\n",
       "      <th>confirmed_date</th>\n",
       "      <th>released_date</th>\n",
       "      <th>deceased_date</th>\n",
       "      <th>state</th>\n",
       "    </tr>\n",
       "  </thead>\n",
       "  <tbody>\n",
       "    <tr>\n",
       "      <th>0</th>\n",
       "      <td>1000000001</td>\n",
       "      <td>2.0</td>\n",
       "      <td>male</td>\n",
       "      <td>1964.0</td>\n",
       "      <td>50s</td>\n",
       "      <td>Korea</td>\n",
       "      <td>Seoul</td>\n",
       "      <td>Gangseo-gu</td>\n",
       "      <td>NaN</td>\n",
       "      <td>overseas inflow</td>\n",
       "      <td>1.0</td>\n",
       "      <td>NaN</td>\n",
       "      <td>75.0</td>\n",
       "      <td>2020-01-22</td>\n",
       "      <td>2020-01-23</td>\n",
       "      <td>2020-02-05</td>\n",
       "      <td>NaN</td>\n",
       "      <td>released</td>\n",
       "    </tr>\n",
       "    <tr>\n",
       "      <th>1</th>\n",
       "      <td>1000000002</td>\n",
       "      <td>5.0</td>\n",
       "      <td>male</td>\n",
       "      <td>1987.0</td>\n",
       "      <td>30s</td>\n",
       "      <td>Korea</td>\n",
       "      <td>Seoul</td>\n",
       "      <td>Jungnang-gu</td>\n",
       "      <td>NaN</td>\n",
       "      <td>overseas inflow</td>\n",
       "      <td>1.0</td>\n",
       "      <td>NaN</td>\n",
       "      <td>31.0</td>\n",
       "      <td>NaN</td>\n",
       "      <td>2020-01-30</td>\n",
       "      <td>2020-03-02</td>\n",
       "      <td>NaN</td>\n",
       "      <td>released</td>\n",
       "    </tr>\n",
       "    <tr>\n",
       "      <th>2</th>\n",
       "      <td>1000000003</td>\n",
       "      <td>6.0</td>\n",
       "      <td>male</td>\n",
       "      <td>1964.0</td>\n",
       "      <td>50s</td>\n",
       "      <td>Korea</td>\n",
       "      <td>Seoul</td>\n",
       "      <td>Jongno-gu</td>\n",
       "      <td>NaN</td>\n",
       "      <td>contact with patient</td>\n",
       "      <td>2.0</td>\n",
       "      <td>2.002000e+09</td>\n",
       "      <td>17.0</td>\n",
       "      <td>NaN</td>\n",
       "      <td>2020-01-30</td>\n",
       "      <td>2020-02-19</td>\n",
       "      <td>NaN</td>\n",
       "      <td>released</td>\n",
       "    </tr>\n",
       "  </tbody>\n",
       "</table>\n",
       "</div>"
      ],
      "text/plain": [
       "   patient_id  global_num   sex  birth_year  age country province  \\\n",
       "0  1000000001         2.0  male      1964.0  50s   Korea    Seoul   \n",
       "1  1000000002         5.0  male      1987.0  30s   Korea    Seoul   \n",
       "2  1000000003         6.0  male      1964.0  50s   Korea    Seoul   \n",
       "\n",
       "          city disease        infection_case  infection_order   infected_by  \\\n",
       "0   Gangseo-gu     NaN       overseas inflow              1.0           NaN   \n",
       "1  Jungnang-gu     NaN       overseas inflow              1.0           NaN   \n",
       "2    Jongno-gu     NaN  contact with patient              2.0  2.002000e+09   \n",
       "\n",
       "   contact_number symptom_onset_date confirmed_date released_date  \\\n",
       "0            75.0         2020-01-22     2020-01-23    2020-02-05   \n",
       "1            31.0                NaN     2020-01-30    2020-03-02   \n",
       "2            17.0                NaN     2020-01-30    2020-02-19   \n",
       "\n",
       "  deceased_date     state  \n",
       "0           NaN  released  \n",
       "1           NaN  released  \n",
       "2           NaN  released  "
      ]
     },
     "metadata": {},
     "output_type": "display_data"
    }
   ],
   "source": [
    "# Prepare dataset\n",
    "Region_df = pd.read_csv('../dataset/Region_sido_addPop_addHospital.csv')[['province', 'safe_hospitals_count', 'infection_hospitals_count', 'infection_hospitals_bed_num']]\n",
    "PatientInfo_df = pd.read_csv('../dataset/Patient/PatientInfo.csv')\n",
    "print(f'PatientInfo.csv shape : {PatientInfo_df.shape}')\n",
    "\n",
    "PatientInfo_df = PatientInfo_df[PatientInfo_df.state.isin(['released', 'deceased'])]\n",
    "PatientInfo_df['confirmed_date'] = pd.to_datetime(PatientInfo_df['confirmed_date'])  # convert data type\n",
    "print(f'      → datset shape : {PatientInfo_df.shape}')\n",
    "\n",
    "display(PatientInfo_df.head(3))\n",
    "\n",
    "\n",
    "# Save patient_id list\n",
    "present_patients = PatientInfo_df.patient_id.astype(str).tolist()\n",
    "with open('patients_id_0421.txt', 'w') as fp:\n",
    "    fp.write('\\n'.join(present_patients))"
   ]
  },
  {
   "cell_type": "code",
   "execution_count": 3,
   "metadata": {},
   "outputs": [
    {
     "data": {
      "text/plain": [
       "NaN     98.943662\n",
       "True     1.056338\n",
       "Name: disease, dtype: float64"
      ]
     },
     "execution_count": 3,
     "metadata": {},
     "output_type": "execute_result"
    }
   ],
   "source": [
    "# Check Null values\n",
    "PatientInfo_df.contact_number.value_counts(dropna=False, normalize=True) * 100\n",
    "PatientInfo_df.symptom_onset_date.value_counts(dropna=False, normalize=True) * 100\n",
    "PatientInfo_df.infection_order.value_counts(dropna=False, normalize=True) * 100\n",
    "PatientInfo_df.disease.value_counts(dropna=False, normalize=True) * 100"
   ]
  },
  {
   "cell_type": "markdown",
   "metadata": {},
   "source": [
    "## 2. Preprocess data\n",
    "- selected features : 'sex', 'birth_year', 'age', 'country', 'province', 'infection_case', 'confirmed_date'\n",
    "- handling nan\n",
    "    - drop nan from 'sex' & 'age'\n",
    "    - replace with mean of same age group in birth_year\n",
    "    - replace with 'not-reported' in infection_case\n",
    "- new features : 'years_after_birth', 'days_after_first_date'\n",
    "    - (ohter new features were created but deleted after evaluation - 'days_after_first_date_province', 'province_safe_hospitals_count', 'province_infection_hospitals_count', 'province_infection_bed_count')\n",
    "- feature encoding\n",
    "    - age : convert to integer (0~10) - label encoding\n",
    "    - other columns : one-hot encoding"
   ]
  },
  {
   "cell_type": "code",
   "execution_count": 4,
   "metadata": {
    "scrolled": false
   },
   "outputs": [
    {
     "name": "stdout",
     "output_type": "stream",
     "text": [
      "X_features.shape : (1704, 7)\n",
      "y_target.shape : (1704, 1)\n"
     ]
    },
    {
     "data": {
      "text/html": [
       "<div>\n",
       "<style scoped>\n",
       "    .dataframe tbody tr th:only-of-type {\n",
       "        vertical-align: middle;\n",
       "    }\n",
       "\n",
       "    .dataframe tbody tr th {\n",
       "        vertical-align: top;\n",
       "    }\n",
       "\n",
       "    .dataframe thead th {\n",
       "        text-align: right;\n",
       "    }\n",
       "</style>\n",
       "<table border=\"1\" class=\"dataframe\">\n",
       "  <thead>\n",
       "    <tr style=\"text-align: right;\">\n",
       "      <th></th>\n",
       "      <th>sex</th>\n",
       "      <th>birth_year</th>\n",
       "      <th>age</th>\n",
       "      <th>country</th>\n",
       "      <th>province</th>\n",
       "      <th>infection_case</th>\n",
       "      <th>confirmed_date</th>\n",
       "    </tr>\n",
       "  </thead>\n",
       "  <tbody>\n",
       "    <tr>\n",
       "      <th>0</th>\n",
       "      <td>male</td>\n",
       "      <td>1964.0</td>\n",
       "      <td>50s</td>\n",
       "      <td>Korea</td>\n",
       "      <td>Seoul</td>\n",
       "      <td>overseas inflow</td>\n",
       "      <td>2020-01-23</td>\n",
       "    </tr>\n",
       "    <tr>\n",
       "      <th>1</th>\n",
       "      <td>male</td>\n",
       "      <td>1987.0</td>\n",
       "      <td>30s</td>\n",
       "      <td>Korea</td>\n",
       "      <td>Seoul</td>\n",
       "      <td>overseas inflow</td>\n",
       "      <td>2020-01-30</td>\n",
       "    </tr>\n",
       "    <tr>\n",
       "      <th>2</th>\n",
       "      <td>male</td>\n",
       "      <td>1964.0</td>\n",
       "      <td>50s</td>\n",
       "      <td>Korea</td>\n",
       "      <td>Seoul</td>\n",
       "      <td>contact with patient</td>\n",
       "      <td>2020-01-30</td>\n",
       "    </tr>\n",
       "  </tbody>\n",
       "</table>\n",
       "</div>"
      ],
      "text/plain": [
       "    sex  birth_year  age country province        infection_case confirmed_date\n",
       "0  male      1964.0  50s   Korea    Seoul       overseas inflow     2020-01-23\n",
       "1  male      1987.0  30s   Korea    Seoul       overseas inflow     2020-01-30\n",
       "2  male      1964.0  50s   Korea    Seoul  contact with patient     2020-01-30"
      ]
     },
     "execution_count": 4,
     "metadata": {},
     "output_type": "execute_result"
    }
   ],
   "source": [
    "# Select features\n",
    "X_features = PatientInfo_df[['sex', 'birth_year', 'age', 'country', 'province', 'infection_case', 'confirmed_date']].copy()\n",
    "y_target = PatientInfo_df[['state']].copy()\n",
    "\n",
    "print(f'X_features.shape : {X_features.shape}')\n",
    "print(f'y_target.shape : {y_target.shape}')\n",
    "X_features.head(3)"
   ]
  },
  {
   "cell_type": "code",
   "execution_count": 5,
   "metadata": {},
   "outputs": [
    {
     "name": "stdout",
     "output_type": "stream",
     "text": [
      "\n",
      "<< no of nan table (before handling) >>\n",
      "sex                 7\n",
      "birth_year        224\n",
      "age                10\n",
      "country             0\n",
      "province            0\n",
      "infection_case    582\n",
      "confirmed_date      0\n",
      "dtype: int64\n",
      "\n",
      "<< no of nan table (after handling) >>\n",
      "sex               0\n",
      "birth_year        0\n",
      "age               0\n",
      "country           0\n",
      "province          0\n",
      "infection_case    0\n",
      "confirmed_date    0\n",
      "dtype: int64\n",
      "\n",
      "\n",
      "X_features.shape : (1694, 7)\n",
      "y_target.shape : (1694, 1)\n"
     ]
    }
   ],
   "source": [
    "print('\\n<< no of nan table (before handling) >>')\n",
    "print(X_features.isna().sum())\n",
    "\n",
    "# Handle nan - sex & age\n",
    "y_target = y_target[~X_features.sex.isna() & ~X_features.age.isna()]\n",
    "X_features = X_features[~X_features.sex.isna() & ~X_features.age.isna()]\n",
    "\n",
    "# Handle nan - birth_year\n",
    "mean_year_list = dict(X_features.groupby('age')['birth_year'].mean().round().reset_index().values)\n",
    "X_features.loc[X_features.birth_year.isna(), 'birth_year'] = X_features.loc[X_features.birth_year.isna(), 'age'].map( lambda x : mean_year_list[ x ] )\n",
    "\n",
    "# Handle nan - infection_case\n",
    "X_features.loc[X_features.infection_case.isna(), 'infection_case'] = 'not-reported'\n",
    "\n",
    "\n",
    "print('\\n<< no of nan table (after handling) >>')\n",
    "print(X_features.isna().sum())\n",
    "\n",
    "\n",
    "print(f'\\n\\nX_features.shape : {X_features.shape}')\n",
    "print(f'y_target.shape : {y_target.shape}')"
   ]
  },
  {
   "cell_type": "code",
   "execution_count": 6,
   "metadata": {},
   "outputs": [
    {
     "data": {
      "text/html": [
       "<div>\n",
       "<style scoped>\n",
       "    .dataframe tbody tr th:only-of-type {\n",
       "        vertical-align: middle;\n",
       "    }\n",
       "\n",
       "    .dataframe tbody tr th {\n",
       "        vertical-align: top;\n",
       "    }\n",
       "\n",
       "    .dataframe thead th {\n",
       "        text-align: right;\n",
       "    }\n",
       "</style>\n",
       "<table border=\"1\" class=\"dataframe\">\n",
       "  <thead>\n",
       "    <tr style=\"text-align: right;\">\n",
       "      <th></th>\n",
       "      <th>sex</th>\n",
       "      <th>age</th>\n",
       "      <th>country</th>\n",
       "      <th>province</th>\n",
       "      <th>infection_case</th>\n",
       "      <th>years_after_birth</th>\n",
       "      <th>days_after_first_date</th>\n",
       "    </tr>\n",
       "  </thead>\n",
       "  <tbody>\n",
       "    <tr>\n",
       "      <th>0</th>\n",
       "      <td>male</td>\n",
       "      <td>50s</td>\n",
       "      <td>Korea</td>\n",
       "      <td>Seoul</td>\n",
       "      <td>overseas inflow</td>\n",
       "      <td>56</td>\n",
       "      <td>3</td>\n",
       "    </tr>\n",
       "    <tr>\n",
       "      <th>1</th>\n",
       "      <td>male</td>\n",
       "      <td>30s</td>\n",
       "      <td>Korea</td>\n",
       "      <td>Seoul</td>\n",
       "      <td>overseas inflow</td>\n",
       "      <td>33</td>\n",
       "      <td>10</td>\n",
       "    </tr>\n",
       "    <tr>\n",
       "      <th>2</th>\n",
       "      <td>male</td>\n",
       "      <td>50s</td>\n",
       "      <td>Korea</td>\n",
       "      <td>Seoul</td>\n",
       "      <td>contact with patient</td>\n",
       "      <td>56</td>\n",
       "      <td>10</td>\n",
       "    </tr>\n",
       "  </tbody>\n",
       "</table>\n",
       "</div>"
      ],
      "text/plain": [
       "    sex  age country province        infection_case  years_after_birth  \\\n",
       "0  male  50s   Korea    Seoul       overseas inflow                 56   \n",
       "1  male  30s   Korea    Seoul       overseas inflow                 33   \n",
       "2  male  50s   Korea    Seoul  contact with patient                 56   \n",
       "\n",
       "   days_after_first_date  \n",
       "0                      3  \n",
       "1                     10  \n",
       "2                     10  "
      ]
     },
     "execution_count": 6,
     "metadata": {},
     "output_type": "execute_result"
    }
   ],
   "source": [
    "# Create new features\n",
    "X_features['years_after_birth'] = (datetime.date.today().year - X_features['birth_year']).astype(int)\n",
    "\n",
    "X_features['days_after_first_date'] = X_features['confirmed_date'] - X_features['confirmed_date'].min()\n",
    "X_features['days_after_first_date'] = X_features['days_after_first_date'].dt.days\n",
    "\n",
    "## deleted after evaluation - days_after_first_date_province\n",
    "# first_date_province_dict = dict(PatientInfo_df.groupby('province')['confirmed_date'].min().reset_index().values)\n",
    "# X_features['first_date_province'] = X_features['province'].map( lambda x : first_date_province_dict[x] )\n",
    "# X_features['days_after_first_date_province'] = X_features['confirmed_date'] - X_features['first_date_province']\n",
    "# X_features['days_after_first_date_province'] = X_features['days_after_first_date_province'].dt.days\n",
    "\n",
    "## deleted after evaluation - province infomations\n",
    "# province_info_dict = { item_list[0]:item_list[1:] for item_list in Region_df.values }\n",
    "# X_features['province_safe_hospitals_count'] = X_features.province.map(lambda x : province_info_dict[x][0])\n",
    "# X_features['province_infection_hospitals_count'] = X_features.province.map(lambda x : province_info_dict[x][1])\n",
    "# X_features['province_infection_bed_count'] = X_features.province.map(lambda x : province_info_dict[x][2])\n",
    "\n",
    "X_features = X_features.drop(columns=['birth_year', 'confirmed_date'])\n",
    "\n",
    "X_features.head(3)"
   ]
  },
  {
   "cell_type": "code",
   "execution_count": 7,
   "metadata": {
    "scrolled": true
   },
   "outputs": [
    {
     "data": {
      "text/html": [
       "<div>\n",
       "<style scoped>\n",
       "    .dataframe tbody tr th:only-of-type {\n",
       "        vertical-align: middle;\n",
       "    }\n",
       "\n",
       "    .dataframe tbody tr th {\n",
       "        vertical-align: top;\n",
       "    }\n",
       "\n",
       "    .dataframe thead th {\n",
       "        text-align: right;\n",
       "    }\n",
       "</style>\n",
       "<table border=\"1\" class=\"dataframe\">\n",
       "  <thead>\n",
       "    <tr style=\"text-align: right;\">\n",
       "      <th></th>\n",
       "      <th>age</th>\n",
       "      <th>years_after_birth</th>\n",
       "      <th>days_after_first_date</th>\n",
       "      <th>sex_female</th>\n",
       "      <th>sex_male</th>\n",
       "      <th>country_China</th>\n",
       "      <th>country_France</th>\n",
       "      <th>country_Indonesia</th>\n",
       "      <th>country_Korea</th>\n",
       "      <th>country_Mongolia</th>\n",
       "      <th>...</th>\n",
       "      <th>infection_case_River of Grace Community Church</th>\n",
       "      <th>infection_case_Seongdong-gu APT</th>\n",
       "      <th>infection_case_Shincheonji Church</th>\n",
       "      <th>infection_case_Suyeong-gu Kindergarten</th>\n",
       "      <th>infection_case_contact with patient</th>\n",
       "      <th>infection_case_etc</th>\n",
       "      <th>infection_case_gym facility in Cheonan</th>\n",
       "      <th>infection_case_gym facility in Sejong</th>\n",
       "      <th>infection_case_not-reported</th>\n",
       "      <th>infection_case_overseas inflow</th>\n",
       "    </tr>\n",
       "  </thead>\n",
       "  <tbody>\n",
       "    <tr>\n",
       "      <th>0</th>\n",
       "      <td>5</td>\n",
       "      <td>56</td>\n",
       "      <td>3</td>\n",
       "      <td>0</td>\n",
       "      <td>1</td>\n",
       "      <td>0</td>\n",
       "      <td>0</td>\n",
       "      <td>0</td>\n",
       "      <td>1</td>\n",
       "      <td>0</td>\n",
       "      <td>...</td>\n",
       "      <td>0</td>\n",
       "      <td>0</td>\n",
       "      <td>0</td>\n",
       "      <td>0</td>\n",
       "      <td>0</td>\n",
       "      <td>0</td>\n",
       "      <td>0</td>\n",
       "      <td>0</td>\n",
       "      <td>0</td>\n",
       "      <td>1</td>\n",
       "    </tr>\n",
       "    <tr>\n",
       "      <th>1</th>\n",
       "      <td>3</td>\n",
       "      <td>33</td>\n",
       "      <td>10</td>\n",
       "      <td>0</td>\n",
       "      <td>1</td>\n",
       "      <td>0</td>\n",
       "      <td>0</td>\n",
       "      <td>0</td>\n",
       "      <td>1</td>\n",
       "      <td>0</td>\n",
       "      <td>...</td>\n",
       "      <td>0</td>\n",
       "      <td>0</td>\n",
       "      <td>0</td>\n",
       "      <td>0</td>\n",
       "      <td>0</td>\n",
       "      <td>0</td>\n",
       "      <td>0</td>\n",
       "      <td>0</td>\n",
       "      <td>0</td>\n",
       "      <td>1</td>\n",
       "    </tr>\n",
       "    <tr>\n",
       "      <th>2</th>\n",
       "      <td>5</td>\n",
       "      <td>56</td>\n",
       "      <td>10</td>\n",
       "      <td>0</td>\n",
       "      <td>1</td>\n",
       "      <td>0</td>\n",
       "      <td>0</td>\n",
       "      <td>0</td>\n",
       "      <td>1</td>\n",
       "      <td>0</td>\n",
       "      <td>...</td>\n",
       "      <td>0</td>\n",
       "      <td>0</td>\n",
       "      <td>0</td>\n",
       "      <td>0</td>\n",
       "      <td>1</td>\n",
       "      <td>0</td>\n",
       "      <td>0</td>\n",
       "      <td>0</td>\n",
       "      <td>0</td>\n",
       "      <td>0</td>\n",
       "    </tr>\n",
       "  </tbody>\n",
       "</table>\n",
       "<p>3 rows × 54 columns</p>\n",
       "</div>"
      ],
      "text/plain": [
       "   age  years_after_birth  days_after_first_date  sex_female  sex_male  \\\n",
       "0    5                 56                      3           0         1   \n",
       "1    3                 33                     10           0         1   \n",
       "2    5                 56                     10           0         1   \n",
       "\n",
       "   country_China  country_France  country_Indonesia  country_Korea  \\\n",
       "0              0               0                  0              1   \n",
       "1              0               0                  0              1   \n",
       "2              0               0                  0              1   \n",
       "\n",
       "   country_Mongolia  ...  infection_case_River of Grace Community Church  \\\n",
       "0                 0  ...                                               0   \n",
       "1                 0  ...                                               0   \n",
       "2                 0  ...                                               0   \n",
       "\n",
       "   infection_case_Seongdong-gu APT  infection_case_Shincheonji Church  \\\n",
       "0                                0                                  0   \n",
       "1                                0                                  0   \n",
       "2                                0                                  0   \n",
       "\n",
       "   infection_case_Suyeong-gu Kindergarten  \\\n",
       "0                                       0   \n",
       "1                                       0   \n",
       "2                                       0   \n",
       "\n",
       "   infection_case_contact with patient  infection_case_etc  \\\n",
       "0                                    0                   0   \n",
       "1                                    0                   0   \n",
       "2                                    1                   0   \n",
       "\n",
       "   infection_case_gym facility in Cheonan  \\\n",
       "0                                       0   \n",
       "1                                       0   \n",
       "2                                       0   \n",
       "\n",
       "   infection_case_gym facility in Sejong  infection_case_not-reported  \\\n",
       "0                                      0                            0   \n",
       "1                                      0                            0   \n",
       "2                                      0                            0   \n",
       "\n",
       "   infection_case_overseas inflow  \n",
       "0                               1  \n",
       "1                               1  \n",
       "2                               0  \n",
       "\n",
       "[3 rows x 54 columns]"
      ]
     },
     "metadata": {},
     "output_type": "display_data"
    },
    {
     "name": "stdout",
     "output_type": "stream",
     "text": [
      "\n"
     ]
    },
    {
     "data": {
      "text/plain": [
       "0    0\n",
       "1    0\n",
       "2    0\n",
       "Name: state_deceased, dtype: uint8"
      ]
     },
     "metadata": {},
     "output_type": "display_data"
    }
   ],
   "source": [
    "# feature encoding - X_features\n",
    "X_features_processed = X_features.copy()\n",
    "X_features_processed = pd.concat([X_features_processed, pd.get_dummies(X_features_processed[['sex', 'country', 'province', 'infection_case']])], \n",
    "                                 axis=1)  # one-hot encoding\n",
    "X_features_processed = X_features_processed.drop(columns=['sex', 'country', 'province', 'infection_case'])\n",
    "X_features_processed['age'] = X_features.age.str.replace('s','').astype(int)//10  # label encoding\n",
    "\n",
    "display(X_features_processed.head(3))\n",
    "print()\n",
    "\n",
    "\n",
    "# feature encoding - y_target\n",
    "y_target_processed = pd.get_dummies(y_target)['state_deceased']\n",
    "display(y_target_processed.head(3))"
   ]
  },
  {
   "cell_type": "markdown",
   "metadata": {},
   "source": [
    "## 3. Split data into train, val, test\n",
    "- It's important that **labels are highly unbalanced** (only about 3% is deceased)\n",
    "- Since the dataset is quite small(1704 records), I will split the date into **6:3:1** for now (test data could be added from the next file update)\n",
    "- Since the labels are highly imbalanced, it's better to use **stratified random sampling**."
   ]
  },
  {
   "cell_type": "code",
   "execution_count": 8,
   "metadata": {
    "scrolled": true
   },
   "outputs": [
    {
     "name": "stdout",
     "output_type": "stream",
     "text": [
      "< Percentage of each label (whole dataset) >\n",
      "0    96.044864\n",
      "1     3.955136\n",
      "Name: state_deceased, dtype: float64\n",
      "\n",
      "< Percentage of each label (Train dataset) > - size of dataset : 1016\n",
      "0    96.062992\n",
      "1     3.937008\n",
      "Name: state_deceased, dtype: float64\n",
      "\n",
      "< Percentage of each label (Validation dataset) > - size of dataset : 508\n",
      "0    96.062992\n",
      "1     3.937008\n",
      "Name: state_deceased, dtype: float64\n",
      "\n",
      "< Percentage of each label (Test dataset) > - size of dataset : 170\n",
      "0    95.882353\n",
      "1     4.117647\n",
      "Name: state_deceased, dtype: float64\n"
     ]
    }
   ],
   "source": [
    "# Get train dataset\n",
    "X_train, X_val_test, y_train, y_val_test = train_test_split(X_features_processed, y_target_processed, test_size=0.4, random_state=0, stratify=y_target)\n",
    "\n",
    "# Get val & test dataset\n",
    "X_val, X_test, y_val, y_test = train_test_split(X_val_test, y_val_test, test_size=0.25, random_state=0, stratify=y_val_test)\n",
    "\n",
    "\n",
    "# Check the labels of each dataset\n",
    "print('< Percentage of each label (whole dataset) >')\n",
    "print(y_target_processed.value_counts(normalize=True) * 100)\n",
    "\n",
    "print('\\n< Percentage of each label (Train dataset) > - size of dataset :', y_train.shape[0])\n",
    "print(y_train.value_counts(normalize=True) * 100)\n",
    "\n",
    "print('\\n< Percentage of each label (Validation dataset) > - size of dataset :', y_val.shape[0])\n",
    "print(y_val.value_counts(normalize=True) * 100)\n",
    "\n",
    "print('\\n< Percentage of each label (Test dataset) > - size of dataset :', y_test.shape[0])\n",
    "print(y_test.value_counts(normalize=True) * 100)"
   ]
  },
  {
   "cell_type": "markdown",
   "metadata": {},
   "source": [
    "## 4. Oversampling in train dataset - SMOTE\n",
    "- The dataset is highly imbalanced and it's hard to acquire more data. Therefore, **we can consider using oversampling methods**.\n",
    "- I tried oversampling using SMOTE. usually, **using SMOTE increases recall but decreased precision in return**. What's more important in this project is recall(finding more people who are likely to decease), so it's a preferable option."
   ]
  },
  {
   "cell_type": "code",
   "execution_count": 9,
   "metadata": {},
   "outputs": [
    {
     "name": "stdout",
     "output_type": "stream",
     "text": [
      ">>> SMOTE 적용 전 학습용 피처/레이블 데이터 세트:  (1016, 54) (1016,)\n",
      ">>> SMOTE 적용 전 레이블 분포:\n",
      "0    976\n",
      "1     40\n",
      "Name: state_deceased, dtype: int64\n",
      "\n",
      ">>> SMOTE 적용 후 학습용 피처/레이블 데이터 세트:  (1952, 54) (1952,)\n",
      ">>> SMOTE 적용 후 레이블 분포:\n",
      "1    976\n",
      "0    976\n",
      "Name: state_deceased, dtype: int64\n"
     ]
    }
   ],
   "source": [
    "print('>>> SMOTE 적용 전 학습용 피처/레이블 데이터 세트: ', X_train.shape, y_train.shape)\n",
    "print('>>> SMOTE 적용 전 레이블 분포:')\n",
    "print(pd.Series(y_train).value_counts())\n",
    "\n",
    "smote = SMOTE(random_state=0)\n",
    "X_train, y_train = smote.fit_sample(X_train, y_train)\n",
    "\n",
    "print('\\n>>> SMOTE 적용 후 학습용 피처/레이블 데이터 세트: ', X_train.shape, y_train.shape)\n",
    "print('>>> SMOTE 적용 후 레이블 분포:')\n",
    "print(pd.Series(y_train).value_counts())"
   ]
  },
  {
   "cell_type": "markdown",
   "metadata": {},
   "source": [
    "## 5. Train model - XGBoost"
   ]
  },
  {
   "cell_type": "code",
   "execution_count": 10,
   "metadata": {
    "scrolled": true
   },
   "outputs": [
    {
     "name": "stdout",
     "output_type": "stream",
     "text": [
      "오차 행렬\n",
      "[[462  26]\n",
      " [  4  16]]\n",
      "정확도: 0.9409, 정밀도: 0.3810, 재현율: 0.8000,    F1: 0.5161, AUC:0.8734\n"
     ]
    }
   ],
   "source": [
    "# Train model\n",
    "xgb_wrapper = XGBClassifier(random_state=0)\n",
    "xgb_wrapper.fit(X_train, y_train)\n",
    "\n",
    "\n",
    "# Evaluate model\n",
    "def get_clf_eval(y_test , pred):\n",
    "    from sklearn.metrics import confusion_matrix, accuracy_score\n",
    "    from sklearn.metrics import precision_score, recall_score\n",
    "    from sklearn.metrics import f1_score, roc_auc_score\n",
    "\n",
    "    confusion = confusion_matrix( y_test, pred)\n",
    "    accuracy = accuracy_score(y_test , pred)\n",
    "    precision = precision_score(y_test , pred)\n",
    "    recall = recall_score(y_test , pred)\n",
    "    f1 = f1_score(y_test,pred)\n",
    "    roc_auc = roc_auc_score(y_test, pred)\n",
    "    print('오차 행렬')\n",
    "    print(confusion)\n",
    "    print('정확도: {0:.4f}, 정밀도: {1:.4f}, 재현율: {2:.4f},\\\n",
    "    F1: {3:.4f}, AUC:{4:.4f}'.format(accuracy, precision, recall, f1, roc_auc))\n",
    "    pass\n",
    "\n",
    "xgb_preds = xgb_wrapper.predict(X_val)\n",
    "get_clf_eval(y_val , xgb_preds)"
   ]
  },
  {
   "cell_type": "code",
   "execution_count": 11,
   "metadata": {
    "scrolled": false
   },
   "outputs": [
    {
     "data": {
      "image/png": "[encoded data removed]",
      "text/plain": [
       "<Figure size 720x504 with 1 Axes>"
      ]
     },
     "metadata": {
      "needs_background": "light"
     },
     "output_type": "display_data"
    }
   ],
   "source": [
    "# Visualize the feature importance\n",
    "fig, ax = plt.subplots(figsize=(10, 7))\n",
    "plot_importance(xgb_wrapper, ax=ax)\n",
    "ax.set_title('Feature importance', size=13)\n",
    "ax.tick_params(axis='y', labelsize=15)\n",
    "\n",
    "plt.show()"
   ]
  },
  {
   "cell_type": "code",
   "execution_count": null,
   "metadata": {},
   "outputs": [],
   "source": []
  }
 ],
 "metadata": {
  "kernelspec": {
   "display_name": "Python 3",
   "language": "python",
   "name": "python3"
  },
  "language_info": {
   "codemirror_mode": {
    "name": "ipython",
    "version": 3
   },
   "file_extension": ".py",
   "mimetype": "text/x-python",
   "name": "python",
   "nbconvert_exporter": "python",
   "pygments_lexer": "ipython3",
   "version": "3.7.6"
  }
 },
 "nbformat": 4,
 "nbformat_minor": 2
}
