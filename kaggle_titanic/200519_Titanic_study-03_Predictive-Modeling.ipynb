{
 "cells": [
  {
   "cell_type": "markdown",
   "execution_count": null,
   "metadata": {},
   "source": [
    "# Part3. Predictive-Modeling\n",
    "ref : https://www.kaggle.com/ash316/eda-to-prediction-dietanic"
   ]
  },
  {
   "cell_type": "code",
   "execution_count": 1,
   "metadata": {
    "_cell_guid": "b1076dfc-b9ad-4769-8c92-a6c4dae69d19",
    "_uuid": "8f2839f25d086af736a60e9eeb907d3b93b6e0e5"
   },
   "outputs": [
    {
     "name": "stdout",
     "output_type": "stream",
     "text": [
      "/kaggle/input/tatanic-train-preprocessed/train_preprocessed.csv\n",
      "/kaggle/input/titanic/gender_submission.csv\n",
      "/kaggle/input/titanic/test.csv\n",
      "/kaggle/input/titanic/train.csv\n"
     ]
    }
   ],
   "source": [
    "import numpy as np # linear algebra\n",
    "import pandas as pd # data processing, CSV file I/O (e.g. pd.read_csv)\n",
    "\n",
    "import matplotlib.pyplot as plt\n",
    "import seaborn as sns\n",
    "plt.style.use('fivethirtyeight')\n",
    "\n",
    "import os\n",
    "for dirname, _, filenames in os.walk('/kaggle/input'):\n",
    "    for filename in filenames:\n",
    "        print(os.path.join(dirname, filename))\n",
    "\n",
    "# You can write up to 5GB to the current directory (/kaggle/working/) that gets preserved as output when you create a version using \"Save & Run All\" \n",
    "# You can also write temporary files to /kaggle/temp/, but they won't be saved outside of the current session"
   ]
  },
  {
   "cell_type": "code",
   "execution_count": 2,
   "metadata": {},
   "outputs": [],
   "source": [
    "from sklearn.model_selection import train_test_split\n",
    "\n",
    "from sklearn import svm\n",
    "from sklearn.linear_model import LogisticRegression\n",
    "from sklearn.tree import DecisionTreeClassifier\n",
    "from sklearn.neighbors import KNeighborsClassifier\n",
    "from sklearn.naive_bayes import GaussianNB\n",
    "from sklearn.ensemble import RandomForestClassifier\n",
    "\n",
    "from sklearn import metrics"
   ]
  },
  {
   "cell_type": "markdown",
   "execution_count": null,
   "metadata": {},
   "source": [
    "## Load & Split preprocessed dataset"
   ]
  },
  {
   "cell_type": "code",
   "execution_count": 3,
   "metadata": {
    "_cell_guid": "79c7e3d0-c299-4dcb-8224-4455121ee9b0",
    "_uuid": "d629ff2d2480ee46fbb7e2d37f6b5fab8052498a"
   },
   "outputs": [
    {
     "data": {
      "text/html": [
       "<div>\n",
       "<style scoped>\n",
       "    .dataframe tbody tr th:only-of-type {\n",
       "        vertical-align: middle;\n",
       "    }\n",
       "\n",
       "    .dataframe tbody tr th {\n",
       "        vertical-align: top;\n",
       "    }\n",
       "\n",
       "    .dataframe thead th {\n",
       "        text-align: right;\n",
       "    }\n",
       "</style>\n",
       "<table border=\"1\" class=\"dataframe\">\n",
       "  <thead>\n",
       "    <tr style=\"text-align: right;\">\n",
       "      <th></th>\n",
       "      <th>Survived</th>\n",
       "      <th>Pclass</th>\n",
       "      <th>Age</th>\n",
       "      <th>SibSp</th>\n",
       "      <th>Parch</th>\n",
       "      <th>Fare</th>\n",
       "      <th>Age_band</th>\n",
       "      <th>Family_size</th>\n",
       "      <th>Alone</th>\n",
       "      <th>Fare_range</th>\n",
       "      <th>Sex_male</th>\n",
       "      <th>Initial_Master</th>\n",
       "      <th>Initial_Miss</th>\n",
       "      <th>Initial_Mr</th>\n",
       "      <th>Initial_Mrs</th>\n",
       "      <th>Port_C</th>\n",
       "      <th>Port_Q</th>\n",
       "    </tr>\n",
       "  </thead>\n",
       "  <tbody>\n",
       "    <tr>\n",
       "      <th>0</th>\n",
       "      <td>0</td>\n",
       "      <td>3</td>\n",
       "      <td>22.0</td>\n",
       "      <td>1</td>\n",
       "      <td>0</td>\n",
       "      <td>7.2500</td>\n",
       "      <td>1</td>\n",
       "      <td>1</td>\n",
       "      <td>0</td>\n",
       "      <td>0</td>\n",
       "      <td>1</td>\n",
       "      <td>0</td>\n",
       "      <td>0</td>\n",
       "      <td>1</td>\n",
       "      <td>0</td>\n",
       "      <td>0</td>\n",
       "      <td>0</td>\n",
       "    </tr>\n",
       "    <tr>\n",
       "      <th>1</th>\n",
       "      <td>1</td>\n",
       "      <td>1</td>\n",
       "      <td>38.0</td>\n",
       "      <td>1</td>\n",
       "      <td>0</td>\n",
       "      <td>71.2833</td>\n",
       "      <td>2</td>\n",
       "      <td>1</td>\n",
       "      <td>0</td>\n",
       "      <td>3</td>\n",
       "      <td>0</td>\n",
       "      <td>0</td>\n",
       "      <td>0</td>\n",
       "      <td>0</td>\n",
       "      <td>1</td>\n",
       "      <td>1</td>\n",
       "      <td>0</td>\n",
       "    </tr>\n",
       "  </tbody>\n",
       "</table>\n",
       "</div>"
      ],
      "text/plain": [
       "   Survived  Pclass   Age  SibSp  Parch     Fare  Age_band  Family_size  \\\n",
       "0         0       3  22.0      1      0   7.2500         1            1   \n",
       "1         1       1  38.0      1      0  71.2833         2            1   \n",
       "\n",
       "   Alone  Fare_range  Sex_male  Initial_Master  Initial_Miss  Initial_Mr  \\\n",
       "0      0           0         1               0             0           1   \n",
       "1      0           3         0               0             0           0   \n",
       "\n",
       "   Initial_Mrs  Port_C  Port_Q  \n",
       "0            0       0       0  \n",
       "1            1       1       0  "
      ]
     },
     "execution_count": 3,
     "metadata": {},
     "output_type": "execute_result"
    }
   ],
   "source": [
    "data = pd.read_csv('/kaggle/input/tatanic-train-preprocessed/train_preprocessed.csv')\n",
    "data.head(2)"
   ]
  },
  {
   "cell_type": "code",
   "execution_count": 4,
   "metadata": {},
   "outputs": [
    {
     "data": {
      "text/plain": [
       "0    0.616372\n",
       "1    0.383628\n",
       "Name: Survived, dtype: float64"
      ]
     },
     "metadata": {},
     "output_type": "display_data"
    },
    {
     "data": {
      "text/plain": [
       "0    0.615672\n",
       "1    0.384328\n",
       "Name: Survived, dtype: float64"
      ]
     },
     "metadata": {},
     "output_type": "display_data"
    },
    {
     "data": {
      "text/html": [
       "<div>\n",
       "<style scoped>\n",
       "    .dataframe tbody tr th:only-of-type {\n",
       "        vertical-align: middle;\n",
       "    }\n",
       "\n",
       "    .dataframe tbody tr th {\n",
       "        vertical-align: top;\n",
       "    }\n",
       "\n",
       "    .dataframe thead th {\n",
       "        text-align: right;\n",
       "    }\n",
       "</style>\n",
       "<table border=\"1\" class=\"dataframe\">\n",
       "  <thead>\n",
       "    <tr style=\"text-align: right;\">\n",
       "      <th></th>\n",
       "      <th>Pclass</th>\n",
       "      <th>Age</th>\n",
       "      <th>SibSp</th>\n",
       "      <th>Parch</th>\n",
       "      <th>Fare</th>\n",
       "      <th>Age_band</th>\n",
       "      <th>Family_size</th>\n",
       "      <th>Alone</th>\n",
       "      <th>Fare_range</th>\n",
       "      <th>Sex_male</th>\n",
       "      <th>Initial_Master</th>\n",
       "      <th>Initial_Miss</th>\n",
       "      <th>Initial_Mr</th>\n",
       "      <th>Initial_Mrs</th>\n",
       "      <th>Port_C</th>\n",
       "      <th>Port_Q</th>\n",
       "    </tr>\n",
       "  </thead>\n",
       "  <tbody>\n",
       "    <tr>\n",
       "      <th>231</th>\n",
       "      <td>3</td>\n",
       "      <td>29.0</td>\n",
       "      <td>0</td>\n",
       "      <td>0</td>\n",
       "      <td>7.7750</td>\n",
       "      <td>1</td>\n",
       "      <td>0</td>\n",
       "      <td>1</td>\n",
       "      <td>0</td>\n",
       "      <td>1</td>\n",
       "      <td>0</td>\n",
       "      <td>0</td>\n",
       "      <td>1</td>\n",
       "      <td>0</td>\n",
       "      <td>0</td>\n",
       "      <td>0</td>\n",
       "    </tr>\n",
       "    <tr>\n",
       "      <th>836</th>\n",
       "      <td>3</td>\n",
       "      <td>21.0</td>\n",
       "      <td>0</td>\n",
       "      <td>0</td>\n",
       "      <td>8.6625</td>\n",
       "      <td>1</td>\n",
       "      <td>0</td>\n",
       "      <td>1</td>\n",
       "      <td>1</td>\n",
       "      <td>1</td>\n",
       "      <td>0</td>\n",
       "      <td>0</td>\n",
       "      <td>1</td>\n",
       "      <td>0</td>\n",
       "      <td>0</td>\n",
       "      <td>0</td>\n",
       "    </tr>\n",
       "  </tbody>\n",
       "</table>\n",
       "</div>"
      ],
      "text/plain": [
       "     Pclass   Age  SibSp  Parch    Fare  Age_band  Family_size  Alone  \\\n",
       "231       3  29.0      0      0  7.7750         1            0      1   \n",
       "836       3  21.0      0      0  8.6625         1            0      1   \n",
       "\n",
       "     Fare_range  Sex_male  Initial_Master  Initial_Miss  Initial_Mr  \\\n",
       "231           0         1               0             0           1   \n",
       "836           1         1               0             0           1   \n",
       "\n",
       "     Initial_Mrs  Port_C  Port_Q  \n",
       "231            0       0       0  \n",
       "836            0       0       0  "
      ]
     },
     "metadata": {},
     "output_type": "display_data"
    }
   ],
   "source": [
    "X_train, X_val, y_train, y_val = train_test_split(data.iloc[:, 1:], data['Survived'],\n",
    "                                                    stratify=data['Survived'],\n",
    "                                                    test_size=0.3, random_state=0)\n",
    "\n",
    "# Check the balance of labels\n",
    "display(y_train.value_counts(normalize=True))\n",
    "display(y_val.value_counts(normalize=True))\n",
    "display(X_train.head(2))"
   ]
  },
  {
   "cell_type": "markdown",
   "execution_count": null,
   "metadata": {},
   "source": [
    "## model 1. Radial Support Vector Machines(rbf-SVM)"
   ]
  },
  {
   "cell_type": "code",
   "execution_count": 5,
   "metadata": {},
   "outputs": [
    {
     "name": "stdout",
     "output_type": "stream",
     "text": [
      "accuracy of rbf-SVM: 0.7388059701492538\n"
     ]
    }
   ],
   "source": [
    "svm_clf = svm.SVC(C=1.0, kernel='rbf', gamma=0.1)\n",
    "svm_clf.fit(X_train, y_train)\n",
    "\n",
    "prediction = svm_clf.predict(X_val)\n",
    "score = metrics.accuracy_score(y_val, prediction)\n",
    "\n",
    "print('accuracy of rbf-SVM:', score)"
   ]
  },
  {
   "cell_type": "markdown",
   "execution_count": null,
   "metadata": {},
   "source": [
    "## model 2. Linear Support Vector Machine(linear-SVM)"
   ]
  },
  {
   "cell_type": "code",
   "execution_count": 6,
   "metadata": {},
   "outputs": [
    {
     "name": "stdout",
     "output_type": "stream",
     "text": [
      "accuracy of linear-SVM: 0.8208955223880597\n"
     ]
    }
   ],
   "source": [
    "svm_clf = svm.SVC(C=0.1, kernel='linear', gamma=0.1)\n",
    "svm_clf.fit(X_train, y_train)\n",
    "\n",
    "prediction = svm_clf.predict(X_val)\n",
    "score = metrics.accuracy_score(y_val, prediction)\n",
    "\n",
    "print('accuracy of linear-SVM:', score)"
   ]
  },
  {
   "cell_type": "markdown",
   "execution_count": null,
   "metadata": {},
   "source": [
    "## model 3. Logistic Regression"
   ]
  },
  {
   "cell_type": "code",
   "execution_count": 7,
   "metadata": {},
   "outputs": [
    {
     "name": "stdout",
     "output_type": "stream",
     "text": [
      "accuracy of logistic regression: 0.8432835820895522\n"
     ]
    }
   ],
   "source": [
    "logistic_clf = LogisticRegression(max_iter=1000)\n",
    "logistic_clf.fit(X_train, y_train)\n",
    "\n",
    "prediction = logistic_clf.predict(X_val)\n",
    "score = metrics.accuracy_score(y_val, prediction)\n",
    "\n",
    "print('accuracy of logistic regression:', score)"
   ]
  },
  {
   "cell_type": "markdown",
   "execution_count": null,
   "metadata": {},
   "source": [
    "## model 4. Decision Tree"
   ]
  },
  {
   "cell_type": "code",
   "execution_count": 8,
   "metadata": {},
   "outputs": [
    {
     "name": "stdout",
     "output_type": "stream",
     "text": [
      "accuracy of Decision Tree: 0.7649253731343284\n"
     ]
    }
   ],
   "source": [
    "dt_clf = DecisionTreeClassifier()\n",
    "dt_clf.fit(X_train, y_train)\n",
    "\n",
    "prediction = dt_clf.predict(X_val)\n",
    "score = metrics.accuracy_score(y_val, prediction)\n",
    "\n",
    "print('accuracy of Decision Tree:', score)"
   ]
  },
  {
   "cell_type": "markdown",
   "execution_count": null,
   "metadata": {},
   "source": [
    "## model 5. K-Nearest Neighbors(KNN)"
   ]
  },
  {
   "cell_type": "code",
   "execution_count": 9,
   "metadata": {},
   "outputs": [
    {
     "name": "stdout",
     "output_type": "stream",
     "text": [
      "accuracy of KNN: 0.7350746268656716\n"
     ]
    }
   ],
   "source": [
    "knn_clf = KNeighborsClassifier()\n",
    "knn_clf.fit(X_train, y_train)\n",
    "\n",
    "prediction = knn_clf.predict(X_val)\n",
    "score = metrics.accuracy_score(y_val, prediction)\n",
    "\n",
    "print('accuracy of KNN:', score)"
   ]
  },
  {
   "cell_type": "markdown",
   "execution_count": null,
   "metadata": {},
   "source": [
    "The accuracy of KNN model changes as the **n_neighbors** parameter changes. The default value of n_neighbors is 5. We can compare the accuracy of KNN models with different n_neighbors parameters."
   ]
  },
  {
   "cell_type": "code",
   "execution_count": 10,
   "metadata": {},
   "outputs": [
    {
     "data": {
      "image/png": "[encoded data removed]",
      "text/plain": [
       "<Figure size 432x288 with 1 Axes>"
      ]
     },
     "metadata": {},
     "output_type": "display_data"
    },
    {
     "name": "stdout",
     "output_type": "stream",
     "text": [
      ">>> Accuracy list: [0.7089552238805971, 0.7089552238805971, 0.7574626865671642, 0.7313432835820896, 0.7350746268656716, 0.7350746268656716, 0.7350746268656716, 0.7276119402985075, 0.7238805970149254, 0.7201492537313433]\n",
      ">>> Maximum accuracy: 0.7574626865671642\n"
     ]
    }
   ],
   "source": [
    "acc_list = []\n",
    "for tmp_param in range(1, 11):\n",
    "    tmp_knn_clf = KNeighborsClassifier(n_neighbors = tmp_param)\n",
    "    tmp_knn_clf.fit(X_train, y_train)\n",
    "    tmp_acc = metrics.accuracy_score(y_val, tmp_knn_clf.predict(X_val))\n",
    "    \n",
    "    acc_list.append(tmp_acc)\n",
    "\n",
    "plt.plot(range(1,11), acc_list)\n",
    "plt.xticks(range(1,11))\n",
    "plt.show()\n",
    "\n",
    "print(f'>>> Accuracy list: {acc_list}')\n",
    "print(f'>>> Maximum accuracy: {max(acc_list)}')"
   ]
  },
  {
   "cell_type": "markdown",
   "execution_count": null,
   "metadata": {},
   "source": [
    "## model 6. Gaussian Naive Bayes"
   ]
  },
  {
   "cell_type": "code",
   "execution_count": 11,
   "metadata": {},
   "outputs": [
    {
     "name": "stdout",
     "output_type": "stream",
     "text": [
      "accuracy of Naive Bayes: 0.8171641791044776\n"
     ]
    }
   ],
   "source": [
    "nb_clf = GaussianNB()\n",
    "nb_clf.fit(X_train, y_train)\n",
    "\n",
    "prediction = nb_clf.predict(X_val)\n",
    "score = metrics.accuracy_score(y_val, prediction)\n",
    "\n",
    "print('accuracy of Naive Bayes:', score)"
   ]
  },
  {
   "cell_type": "markdown",
   "execution_count": null,
   "metadata": {},
   "source": [
    "## model 7. Random Forest"
   ]
  },
  {
   "cell_type": "code",
   "execution_count": 12,
   "metadata": {},
   "outputs": [
    {
     "name": "stdout",
     "output_type": "stream",
     "text": [
      "accuracy of Random Forest: 0.8059701492537313\n"
     ]
    }
   ],
   "source": [
    "rf_clf = RandomForestClassifier(n_estimators=100)\n",
    "rf_clf.fit(X_train, y_train)\n",
    "\n",
    "prediction = rf_clf.predict(X_val)\n",
    "score = metrics.accuracy_score(y_val, prediction)\n",
    "\n",
    "print('accuracy of Random Forest:', score)"
   ]
  },
  {
   "cell_type": "markdown",
   "execution_count": null,
   "metadata": {},
   "source": [
    "The validation accuracy of models is not the only metric to decide best model. The robustness is also important. The accuracy of a model changes as new data is input. This is known as **model variance**.<br><br>\n",
    "To overcome this and get a generalized(robust) model, we use **Cross Validation**, more specifically **K-fold Cross Validation**."
   ]
  },
  {
   "cell_type": "markdown",
   "execution_count": null,
   "metadata": {},
   "source": [
    "## Cross Validation"
   ]
  },
  {
   "cell_type": "code",
   "execution_count": 13,
   "metadata": {},
   "outputs": [],
   "source": [
    "from sklearn.model_selection import StratifiedKFold\n",
    "from sklearn.model_selection import cross_val_predict\n",
    "from sklearn.model_selection import cross_val_score"
   ]
  },
  {
   "cell_type": "code",
   "execution_count": 14,
   "metadata": {},
   "outputs": [
    {
     "data": {
      "text/html": [
       "<div>\n",
       "<style scoped>\n",
       "    .dataframe tbody tr th:only-of-type {\n",
       "        vertical-align: middle;\n",
       "    }\n",
       "\n",
       "    .dataframe tbody tr th {\n",
       "        vertical-align: top;\n",
       "    }\n",
       "\n",
       "    .dataframe thead th {\n",
       "        text-align: right;\n",
       "    }\n",
       "</style>\n",
       "<table border=\"1\" class=\"dataframe\">\n",
       "  <thead>\n",
       "    <tr style=\"text-align: right;\">\n",
       "      <th></th>\n",
       "      <th>CV_mean</th>\n",
       "      <th>CV_std</th>\n",
       "    </tr>\n",
       "  </thead>\n",
       "  <tbody>\n",
       "    <tr>\n",
       "      <th>KNN</th>\n",
       "      <td>0.738402</td>\n",
       "      <td>0.045325</td>\n",
       "    </tr>\n",
       "    <tr>\n",
       "      <th>rbf-SVM</th>\n",
       "      <td>0.746292</td>\n",
       "      <td>0.037312</td>\n",
       "    </tr>\n",
       "    <tr>\n",
       "      <th>Decision Tree</th>\n",
       "      <td>0.782260</td>\n",
       "      <td>0.027662</td>\n",
       "    </tr>\n",
       "    <tr>\n",
       "      <th>Random Forest</th>\n",
       "      <td>0.805868</td>\n",
       "      <td>0.030760</td>\n",
       "    </tr>\n",
       "    <tr>\n",
       "      <th>Naive Bayes</th>\n",
       "      <td>0.809238</td>\n",
       "      <td>0.039360</td>\n",
       "    </tr>\n",
       "    <tr>\n",
       "      <th>linear-SVM</th>\n",
       "      <td>0.824969</td>\n",
       "      <td>0.032660</td>\n",
       "    </tr>\n",
       "    <tr>\n",
       "      <th>logistic regression</th>\n",
       "      <td>0.826055</td>\n",
       "      <td>0.034442</td>\n",
       "    </tr>\n",
       "  </tbody>\n",
       "</table>\n",
       "</div>"
      ],
      "text/plain": [
       "                      CV_mean    CV_std\n",
       "KNN                  0.738402  0.045325\n",
       "rbf-SVM              0.746292  0.037312\n",
       "Decision Tree        0.782260  0.027662\n",
       "Random Forest        0.805868  0.030760\n",
       "Naive Bayes          0.809238  0.039360\n",
       "linear-SVM           0.824969  0.032660\n",
       "logistic regression  0.826055  0.034442"
      ]
     },
     "execution_count": 14,
     "metadata": {},
     "output_type": "execute_result"
    }
   ],
   "source": [
    "kfold = StratifiedKFold(n_splits=10, random_state=22, shuffle=True)\n",
    "model_names = ['rbf-SVM', 'linear-SVM', 'logistic regression', 'Decision Tree', 'KNN', 'Naive Bayes', 'Random Forest']\n",
    "models = [svm.SVC(C=1.0, kernel='rbf', gamma=0.1), svm.SVC(C=0.1, kernel='linear', gamma=0.1), LogisticRegression(max_iter=1000), \n",
    "          DecisionTreeClassifier(), KNeighborsClassifier(n_neighbors=3), GaussianNB(), RandomForestClassifier(n_estimators=100)]\n",
    "\n",
    "acc_list = []\n",
    "acc_mean_list = []\n",
    "acc_std_list = []\n",
    "\n",
    "for tmp_model in models:\n",
    "    cv_result = cross_val_score(tmp_model, data.iloc[:, 1:], data['Survived'],\n",
    "                                cv=kfold, scoring='accuracy')\n",
    "    acc_list.append(cv_result)\n",
    "    acc_mean_list.append(cv_result.mean())\n",
    "    acc_std_list.append(cv_result.std())\n",
    "\n",
    "pd.DataFrame({'CV_mean':acc_mean_list, 'CV_std':acc_std_list}, index=model_names).sort_values('CV_mean')"
   ]
  },
  {
   "cell_type": "code",
   "execution_count": 15,
   "metadata": {},
   "outputs": [
    {
     "data": {
      "image/png": "[encoded data removed]",
      "text/plain": [
       "<Figure size 1080x504 with 1 Axes>"
      ]
     },
     "metadata": {},
     "output_type": "display_data"
    }
   ],
   "source": [
    "plt.figure(figsize=(15, 7))\n",
    "\n",
    "# Draw boxplot of each model\n",
    "tmp_df = pd.concat([pd.DataFrame(acc_list, index=model_names), \n",
    "                    pd.DataFrame({'CV_mean':acc_mean_list}, index=model_names)],\n",
    "                   axis=1)\n",
    "tmp_df.sort_values('CV_mean').drop(columns='CV_mean').T.boxplot()\n",
    "\n",
    "# Annotate CV_mean on each boxplot\n",
    "acc_mean_sorted = sorted(acc_mean_list)\n",
    "plt.scatter(range(1,8), acc_mean_sorted, color='red')\n",
    "for tmp_x, tmp_y in zip(np.arange(1,8), acc_mean_sorted):\n",
    "    plt.text(tmp_x+0.1, tmp_y, s=f'CV_mean\\n{tmp_y:.2f}')\n",
    "\n",
    "plt.show()"
   ]
  },
  {
   "cell_type": "markdown",
   "execution_count": null,
   "metadata": {},
   "source": [
    "- Top-4 models in regard to accuracy are **Random Forest, Naive Bayes, linear-SVM, logistic regression**. Random Forest seems most robust among them.\n",
    "- However, only using classification accuracy is sometimes misleading due to data imbalance. We can get a better version of summarized result with the help of **confusion matrix**, which shows how many mistakes the model made in each case."
   ]
  },
  {
   "cell_type": "markdown",
   "execution_count": null,
   "metadata": {},
   "source": [
    "## Confusion Matrix"
   ]
  },
  {
   "cell_type": "code",
   "execution_count": 16,
   "metadata": {},
   "outputs": [
    {
     "data": {
      "image/png": "[encoded data removed]",
      "text/plain": [
       "<Figure size 864x720 with 16 Axes>"
      ]
     },
     "metadata": {},
     "output_type": "display_data"
    }
   ],
   "source": [
    "fig, ax = plt.subplots(3, 3, figsize=(12, 10))\n",
    "\n",
    "for tmp_ax, tmp_model, tmp_name in zip(ax.ravel(), models, model_names):\n",
    "    y_pred = cross_val_predict(tmp_model, data.iloc[:, 1:], data['Survived'], cv=kfold)\n",
    "    sns.heatmap(metrics.confusion_matrix(data['Survived'], y_pred),\n",
    "                ax=tmp_ax, annot=True, fmt='2.0f')\n",
    "    tmp_ax.set_title(f'Matrix for {tmp_name}', size=15)\n",
    "\n",
    "plt.subplots_adjust(hspace=0.3,wspace=0.3)\n",
    "plt.show()"
   ]
  },
  {
   "cell_type": "markdown",
   "execution_count": null,
   "metadata": {},
   "source": [
    "- The left diagonal of confusion matrix shows the number of correct predictions while the right one shows wrong predictions.\n",
    "- Looking all the matrices, **linear-SVM** is good at predicting deceased passengers and **Naive Bayes** is good at predicting survived passengers."
   ]
  },
  {
   "cell_type": "markdown",
   "execution_count": null,
   "metadata": {},
   "source": [
    "## Hyper-parameter Tuning 1. Naive Bayes\n",
    "I will tune the hyper-parameters for the 4 best models i.e. Naive Bayes, Random Forest, SVM and Logistic Regression"
   ]
  },
  {
   "cell_type": "code",
   "execution_count": 17,
   "metadata": {},
   "outputs": [
    {
     "name": "stdout",
     "output_type": "stream",
     "text": [
      "Fitting 5 folds for each of 7 candidates, totalling 35 fits\n"
     ]
    },
    {
     "name": "stderr",
     "output_type": "stream",
     "text": [
      "[Parallel(n_jobs=-1)]: Using backend LokyBackend with 4 concurrent workers.\n"
     ]
    },
    {
     "name": "stdout",
     "output_type": "stream",
     "text": [
      ">>> best score : 0.8137028435126483\n",
      ">>> best param set : GaussianNB(priors=None, var_smoothing=1e-05)\n"
     ]
    },
    {
     "name": "stderr",
     "output_type": "stream",
     "text": [
      "[Parallel(n_jobs=-1)]: Done  35 out of  35 | elapsed:    1.5s finished\n"
     ]
    }
   ],
   "source": [
    "from sklearn.model_selection import GridSearchCV\n",
    "\n",
    "param={'var_smoothing':[1e-4, 1e-5, 1e-6, 1e-7, 1e-8, 1e-9, 1e-10]}\n",
    "gd = GridSearchCV(estimator=GaussianNB(), param_grid=param,\n",
    "                  verbose=True, n_jobs=-1)\n",
    "gd.fit(data.iloc[:, 1:], data['Survived'])\n",
    "\n",
    "print('>>> best score :', gd.best_score_)\n",
    "print('>>> best param set :', gd.best_estimator_)"
   ]
  },
  {
   "cell_type": "markdown",
   "execution_count": null,
   "metadata": {},
   "source": [
    "## Hyper-parameter Tuning 2. Random Forest"
   ]
  },
  {
   "cell_type": "code",
   "execution_count": 18,
   "metadata": {},
   "outputs": [
    {
     "name": "stderr",
     "output_type": "stream",
     "text": [
      "[Parallel(n_jobs=-1)]: Using backend LokyBackend with 4 concurrent workers.\n"
     ]
    },
    {
     "name": "stdout",
     "output_type": "stream",
     "text": [
      "Fitting 5 folds for each of 216 candidates, totalling 1080 fits\n"
     ]
    },
    {
     "name": "stderr",
     "output_type": "stream",
     "text": [
      "[Parallel(n_jobs=-1)]: Done  62 tasks      | elapsed:   10.3s\n",
      "[Parallel(n_jobs=-1)]: Done 212 tasks      | elapsed:  1.5min\n",
      "[Parallel(n_jobs=-1)]: Done 462 tasks      | elapsed:  3.4min\n",
      "[Parallel(n_jobs=-1)]: Done 812 tasks      | elapsed:  5.8min\n",
      "[Parallel(n_jobs=-1)]: Done 1080 out of 1080 | elapsed:  7.6min finished\n"
     ]
    },
    {
     "name": "stdout",
     "output_type": "stream",
     "text": [
      ">>> best score : 0.8406440273680247\n",
      ">>> best param set : RandomForestClassifier(bootstrap=True, ccp_alpha=0.0, class_weight=None,\n",
      "                       criterion='gini', max_depth=None, max_features='sqrt',\n",
      "                       max_leaf_nodes=None, max_samples=None,\n",
      "                       min_impurity_decrease=0.0, min_impurity_split=None,\n",
      "                       min_samples_leaf=1, min_samples_split=10,\n",
      "                       min_weight_fraction_leaf=0.0, n_estimators=900,\n",
      "                       n_jobs=None, oob_score=False, random_state=0, verbose=0,\n",
      "                       warm_start=False)\n"
     ]
    }
   ],
   "source": [
    "n_estimators = range(100, 1000, 100)\n",
    "min_samples_split = [1, 2, 3, 5, 7, 10]\n",
    "max_features = ['sqrt', 'log2']\n",
    "bootstrap = [True, False]\n",
    "\n",
    "param = {'n_estimators':n_estimators, 'min_samples_split':min_samples_split,\n",
    "         'max_features':max_features, 'bootstrap':bootstrap}\n",
    "gd = GridSearchCV(estimator=RandomForestClassifier(random_state=0),\n",
    "                  param_grid=param, verbose=True, n_jobs=-1)\n",
    "gd.fit(data.iloc[:, 1:], data['Survived'])\n",
    "\n",
    "print('>>> best score :', gd.best_score_)\n",
    "print('>>> best param set :', gd.best_estimator_)"
   ]
  },
  {
   "cell_type": "markdown",
   "execution_count": null,
   "metadata": {},
   "source": [
    "## Hyper-parameter Tuning 3. SVM"
   ]
  },
  {
   "cell_type": "code",
   "execution_count": 19,
   "metadata": {},
   "outputs": [
    {
     "name": "stdout",
     "output_type": "stream",
     "text": [
      "Fitting 5 folds for each of 240 candidates, totalling 1200 fits\n"
     ]
    },
    {
     "name": "stderr",
     "output_type": "stream",
     "text": [
      "[Parallel(n_jobs=-1)]: Using backend LokyBackend with 4 concurrent workers.\n",
      "[Parallel(n_jobs=-1)]: Done  76 tasks      | elapsed:    3.4s\n",
      "[Parallel(n_jobs=-1)]: Done 312 tasks      | elapsed:   24.9s\n",
      "[Parallel(n_jobs=-1)]: Done 562 tasks      | elapsed:  1.4min\n",
      "[Parallel(n_jobs=-1)]: Done 912 tasks      | elapsed:  4.1min\n",
      "[Parallel(n_jobs=-1)]: Done 1200 out of 1200 | elapsed:  5.5min finished\n"
     ]
    },
    {
     "name": "stdout",
     "output_type": "stream",
     "text": [
      ">>> best score : 0.8293829640323898\n",
      ">>> best param set : SVC(C=0.5, break_ties=False, cache_size=200, class_weight=None, coef0=0.0,\n",
      "    decision_function_shape='ovr', degree=3, gamma=0.1, kernel='linear',\n",
      "    max_iter=-1, probability=False, random_state=0, shrinking=True, tol=0.001,\n",
      "    verbose=False)\n"
     ]
    }
   ],
   "source": [
    "C = [(i+1)/10 for i in range(10)] + [0.05, 0.25]\n",
    "gamma = [(i+1)/10 for i in range(10)]\n",
    "kernel = ['rbf', 'linear']\n",
    "\n",
    "param = {'C':C, 'gamma':gamma, 'kernel':kernel}\n",
    "gd = GridSearchCV(estimator=svm.SVC(random_state=0), param_grid=param,\n",
    "                  verbose=True, n_jobs=-1)\n",
    "gd.fit(data.iloc[:, 1:], data['Survived'])\n",
    "\n",
    "print('>>> best score :', gd.best_score_)\n",
    "print('>>> best param set :', gd.best_estimator_)"
   ]
  },
  {
   "cell_type": "markdown",
   "execution_count": null,
   "metadata": {},
   "source": [
    "## Hyper-parameter Tuning 4. Logistic Regression"
   ]
  },
  {
   "cell_type": "code",
   "execution_count": 20,
   "metadata": {},
   "outputs": [
    {
     "name": "stdout",
     "output_type": "stream",
     "text": [
      "Fitting 5 folds for each of 270 candidates, totalling 1350 fits\n"
     ]
    },
    {
     "name": "stderr",
     "output_type": "stream",
     "text": [
      "[Parallel(n_jobs=-1)]: Using backend LokyBackend with 4 concurrent workers.\n",
      "[Parallel(n_jobs=-1)]: Done 128 tasks      | elapsed:    3.3s\n",
      "[Parallel(n_jobs=-1)]: Done 728 tasks      | elapsed:   22.8s\n",
      "[Parallel(n_jobs=-1)]: Done 1350 out of 1350 | elapsed:   44.6s finished\n"
     ]
    },
    {
     "name": "stdout",
     "output_type": "stream",
     "text": [
      ">>> best score : 0.8237838177138912\n",
      ">>> best param set : LogisticRegression(C=0.75, class_weight=None, dual=False, fit_intercept=True,\n",
      "                   intercept_scaling=1, l1_ratio=None, max_iter=1000,\n",
      "                   multi_class='auto', n_jobs=None, penalty='l2',\n",
      "                   random_state=0, solver='lbfgs', tol=0.0001, verbose=0,\n",
      "                   warm_start=False)\n"
     ]
    }
   ],
   "source": [
    "penalty = ['l1', 'l2', 'elasticnet']\n",
    "C = [0.25, 0.5, 0.75, 1.0, 1.25, 1.5]\n",
    "solver = ['newton-cg', 'lbfgs', 'liblinear', 'sag', 'saga']\n",
    "max_iter = [1000, 1500, 2000]\n",
    "\n",
    "param={'penalty':penalty, 'C':C, 'solver':solver, 'max_iter':max_iter}\n",
    "gd = GridSearchCV(estimator=LogisticRegression(random_state=0),\n",
    "                  param_grid=param, verbose=True, n_jobs=-1)\n",
    "gd.fit(data.iloc[:, 1:], data['Survived'])\n",
    "\n",
    "print('>>> best score :', gd.best_score_)\n",
    "print('>>> best param set :', gd.best_estimator_)"
   ]
  },
  {
   "cell_type": "markdown",
   "execution_count": null,
   "metadata": {},
   "source": [
    "- The best score of Naive Bayes is **81.37%** with **var_smoothing=1e-05**\n",
    "- The best score of Random Forest is **84.06%** with **n_estimators=900, min_samples_split=10, max_features='sqrt' and bootstrap=True**\n",
    "- The best score of SVM is **82.94%** with **C=0.5, gamma=0.1 and kernel='linear'**\n",
    "- The best score of Logistic Regression is **82.38%** with **penalty='l2', C=0.75, solver='lbfgs' and max_iter=1000**"
   ]
  },
  {
   "cell_type": "markdown",
   "execution_count": null,
   "metadata": {},
   "source": [
    "## Ensembling\n",
    "- Ensembling is a good way to increase the accuracy, stability or performance of a model. In simple words, it is the combination of various simple models to create a single powerful model.\n",
    "- Ensembling can be done in ways like: **Voting Classifier, Bagging, Boosting**."
   ]
  },
  {
   "cell_type": "markdown",
   "execution_count": null,
   "metadata": {},
   "source": [
    "## Ensembling 1. Voting Classifier\n",
    "- It is the simplest way of combining predictions from many different simple machine learning models. It gives an average prediction result based on the prediction of all the submodels. The submodels or the basemodels are all of different types."
   ]
  },
  {
   "cell_type": "code",
   "execution_count": 21,
   "metadata": {},
   "outputs": [
    {
     "name": "stdout",
     "output_type": "stream",
     "text": [
      ">>> The cross validation accuracy: 0.8271785268414481\n",
      ">>> The validation accuracy: 0.8171641791044776\n"
     ]
    }
   ],
   "source": [
    "from sklearn.model_selection import cross_val_score\n",
    "from sklearn.model_selection import StratifiedKFold\n",
    "\n",
    "from sklearn.ensemble import VotingClassifier\n",
    "\n",
    "ensemble_clf = VotingClassifier(estimators=[('SVM', svm.SVC(C=0.5, gamma=0.1, kernel='linear', probability=True)), \n",
    "                                            ('LR', LogisticRegression(random_state=0, penalty='l2', C=0.75, solver='lbfgs', max_iter=1000)), \n",
    "                                            ('DT', DecisionTreeClassifier()), \n",
    "                                            ('KNN', KNeighborsClassifier(n_neighbors=3)), \n",
    "                                            ('NB', GaussianNB(var_smoothing=1e-05)), \n",
    "                                            ('RanFor', RandomForestClassifier(n_estimators=900, min_samples_split=10, max_features='sqrt', bootstrap=True))],\n",
    "                                voting='soft', n_jobs=-1)\n",
    "\n",
    "kfold = StratifiedKFold(n_splits=10, random_state=22, shuffle=True)\n",
    "cv_score = cross_val_score(ensemble_clf, X=data.iloc[:, 1:], y=data['Survived'],\n",
    "                           cv=kfold, scoring='accuracy', n_jobs=-1)\n",
    "print('>>> The cross validation accuracy:', cv_score.mean())\n",
    "\n",
    "ensemble_clf.fit(X_train, y_train)\n",
    "print('>>> The validation accuracy:', ensemble_clf.score(X_val, y_val))"
   ]
  },
  {
   "cell_type": "markdown",
   "execution_count": null,
   "metadata": {},
   "source": [
    "## Ensembling 2. Bagging\n",
    "- Bagging works by applying similar classifiers on small partitions of the dataset and then taking the average of all the predictions. Due to the averaging, there is reduction in variance. Unlike Voting Classifier, Bagging makes use of same classifiers.\n",
    "- Bagging works best with models with high variance. An example for this can be Decision Tree or Random Forest."
   ]
  },
  {
   "cell_type": "markdown",
   "execution_count": null,
   "metadata": {},
   "source": [
    "#### 1) Bagged KNN"
   ]
  },
  {
   "cell_type": "code",
   "execution_count": 22,
   "metadata": {},
   "outputs": [
    {
     "name": "stderr",
     "output_type": "stream",
     "text": [
      "/opt/conda/lib/python3.7/site-packages/joblib/externals/loky/process_executor.py:706: UserWarning: A worker stopped while some jobs were given to the executor. This can be caused by a too short worker timeout or by a memory leak.\n",
      "  \"timeout or by a memory leak.\", UserWarning\n"
     ]
    },
    {
     "name": "stdout",
     "output_type": "stream",
     "text": [
      ">>> The cross validation accuracy of Bagged KNN: 0.742896379525593\n",
      ">>> The validation accuracy of Bagged KNN: 0.753731343283582\n"
     ]
    }
   ],
   "source": [
    "from sklearn.ensemble import BaggingClassifier\n",
    "\n",
    "ensemble_clf = BaggingClassifier(base_estimator=KNeighborsClassifier(n_neighbors=3),\n",
    "                          n_estimators=700, max_samples=1.0, max_features=1.0,\n",
    "                          random_state=0, n_jobs=-1)\n",
    "\n",
    "\n",
    "kfold = StratifiedKFold(n_splits=10, random_state=22, shuffle=True)\n",
    "cv_score = cross_val_score(ensemble_clf, X=data.iloc[:, 1:], y=data['Survived'],\n",
    "                           cv=kfold, scoring='accuracy')\n",
    "print('>>> The cross validation accuracy of Bagged KNN:', cv_score.mean())\n",
    "\n",
    "\n",
    "ensemble_clf.fit(X_train, y_train)\n",
    "prediction = ensemble_clf.predict(X_val)\n",
    "print('>>> The validation accuracy of Bagged KNN:', metrics.accuracy_score(y_val, prediction))"
   ]
  },
  {
   "cell_type": "markdown",
   "execution_count": null,
   "metadata": {},
   "source": [
    "#### 2) Bagged Decision Tree"
   ]
  },
  {
   "cell_type": "code",
   "execution_count": 23,
   "metadata": {},
   "outputs": [
    {
     "name": "stdout",
     "output_type": "stream",
     "text": [
      ">>> The cross validation accuracy of Bagged Decision Tree: 0.8204619225967541\n",
      ">>> The validation accuracy of Bagged Decision Tree: 0.835820895522388\n"
     ]
    }
   ],
   "source": [
    "ensemble_clf = BaggingClassifier(base_estimator=DecisionTreeClassifier(),\n",
    "                                 n_estimators=100, max_samples=1.0, max_features=1.0,\n",
    "                                 random_state=0, n_jobs=-1)\n",
    "\n",
    "\n",
    "kfold = StratifiedKFold(n_splits=10, random_state=22, shuffle=True)\n",
    "cv_score = cross_val_score(ensemble_clf, X=data.iloc[:, 1:], y=data['Survived'],\n",
    "                           cv=kfold, scoring='accuracy')\n",
    "print('>>> The cross validation accuracy of Bagged Decision Tree:', cv_score.mean())\n",
    "\n",
    "\n",
    "ensemble_clf.fit(X_train, y_train)\n",
    "prediction = ensemble_clf.predict(X_val)\n",
    "print('>>> The validation accuracy of Bagged Decision Tree:', metrics.accuracy_score(y_val, prediction))"
   ]
  },
  {
   "cell_type": "markdown",
   "execution_count": null,
   "metadata": {},
   "source": [
    "## Ensembling 3. Boosting\n",
    "- Boosting is an ensembling technique which uses sequential learning of classifiers. It is a step-by-step enhancement of a weak model.\n",
    "- Boosting works as follows: A model is first trained on the complete dataset. Then the model will get some instances right while some wrong. Now in the next iteration, the learner will focus more on the wrongly predicted instances or give more weight to them. Thus, it will try to predict the wrong instance corretly. Now this iterative process continues, and the model will keep developing until the limit reached on the accuracy."
   ]
  },
  {
   "cell_type": "markdown",
   "execution_count": null,
   "metadata": {},
   "source": [
    "#### 1) AdaBoost (Adaptive Boosting)\n",
    "- The weak learner or estimator in this case is a Decision Tree. But we can change the default base_estimator to any algorithm of our choice."
   ]
  },
  {
   "cell_type": "code",
   "execution_count": 24,
   "metadata": {},
   "outputs": [
    {
     "name": "stdout",
     "output_type": "stream",
     "text": [
      ">>> The cross validation accuracy of AdaBoost(DT): 0.8159675405742821\n"
     ]
    }
   ],
   "source": [
    "from sklearn.model_selection import cross_val_score\n",
    "from sklearn.model_selection import StratifiedKFold\n",
    "\n",
    "from sklearn.ensemble import AdaBoostClassifier\n",
    "\n",
    "ada = AdaBoostClassifier(n_estimators=200, learning_rate=0.1,\n",
    "                         random_state=0)\n",
    "\n",
    "kfold = StratifiedKFold(n_splits=10, random_state=22, shuffle=True)\n",
    "cv_score = cross_val_score(ada, data.iloc[:, 1:], data['Survived'],\n",
    "                           scoring='accuracy', cv=kfold, n_jobs=-1)\n",
    "print('>>> The cross validation accuracy of AdaBoost(DT):', cv_score.mean())"
   ]
  },
  {
   "cell_type": "markdown",
   "execution_count": null,
   "metadata": {},
   "source": [
    "#### 2) Stochastic Gradient Boosting\n",
    "- Here, the weak learner is also a Decision Tree."
   ]
  },
  {
   "cell_type": "code",
   "execution_count": 25,
   "metadata": {},
   "outputs": [
    {
     "name": "stdout",
     "output_type": "stream",
     "text": [
      ">>> The cross validation accuracy of Stochastic Gradient Boosting(DT): 0.833932584269663\n"
     ]
    }
   ],
   "source": [
    "from sklearn.ensemble import GradientBoostingClassifier\n",
    "\n",
    "grad = GradientBoostingClassifier(n_estimators=500, learning_rate=0.1,\n",
    "                                  random_state=0)\n",
    "\n",
    "kfold = StratifiedKFold(n_splits=10, random_state=22, shuffle=True)\n",
    "cv_score = cross_val_score(grad, data.iloc[:, 1:], data['Survived'],\n",
    "                           scoring='accuracy', cv=kfold, n_jobs=-1)\n",
    "print('>>> The cross validation accuracy of Stochastic Gradient Boosting(DT):', cv_score.mean())"
   ]
  },
  {
   "cell_type": "markdown",
   "execution_count": null,
   "metadata": {},
   "source": [
    "#### 3) XGBoost"
   ]
  },
  {
   "cell_type": "code",
   "execution_count": 26,
   "metadata": {},
   "outputs": [
    {
     "name": "stderr",
     "output_type": "stream",
     "text": [
      "/opt/conda/lib/python3.7/site-packages/joblib/externals/loky/process_executor.py:706: UserWarning: A worker stopped while some jobs were given to the executor. This can be caused by a too short worker timeout or by a memory leak.\n",
      "  \"timeout or by a memory leak.\", UserWarning\n"
     ]
    },
    {
     "name": "stdout",
     "output_type": "stream",
     "text": [
      ">>> The cross validation accuracy of XGBoost: 0.8114856429463172\n"
     ]
    }
   ],
   "source": [
    "import xgboost as xgb\n",
    "xgb_clf = xgb.XGBClassifier(learning_rate=0.1, n_jobs=-1,\n",
    "                            random_state=0, n_estimators=900)\n",
    "\n",
    "kfold = StratifiedKFold(n_splits=10, random_state=22, shuffle=True)\n",
    "cv_score = cross_val_score(xgb_clf, data.iloc[:, 1:], data['Survived'],\n",
    "                           scoring='accuracy', cv=kfold, n_jobs=-1)\n",
    "print('>>> The cross validation accuracy of XGBoost:', cv_score.mean())"
   ]
  },
  {
   "cell_type": "markdown",
   "execution_count": null,
   "metadata": {},
   "source": [
    "## Hyper-parameter Tuning for Stochastic Gradient Boosting\n",
    "- The Stochastic Gradient Boosting model showed best accuracy(0.8339). So I'll try to increase the accuracy of it by Hyper-parameter Tuning."
   ]
  },
  {
   "cell_type": "code",
   "execution_count": 27,
   "metadata": {},
   "outputs": [
    {
     "name": "stdout",
     "output_type": "stream",
     "text": [
      "Fitting 5 folds for each of 675 candidates, totalling 3375 fits\n"
     ]
    },
    {
     "name": "stderr",
     "output_type": "stream",
     "text": [
      "[Parallel(n_jobs=-1)]: Using backend LokyBackend with 4 concurrent workers.\n",
      "[Parallel(n_jobs=-1)]: Done  42 tasks      | elapsed:    7.4s\n",
      "[Parallel(n_jobs=-1)]: Done 192 tasks      | elapsed:   46.7s\n",
      "[Parallel(n_jobs=-1)]: Done 442 tasks      | elapsed:  2.2min\n",
      "[Parallel(n_jobs=-1)]: Done 792 tasks      | elapsed:  4.7min\n",
      "[Parallel(n_jobs=-1)]: Done 1242 tasks      | elapsed:  7.5min\n",
      "[Parallel(n_jobs=-1)]: Done 1792 tasks      | elapsed: 10.6min\n",
      "[Parallel(n_jobs=-1)]: Done 2442 tasks      | elapsed: 14.5min\n",
      "[Parallel(n_jobs=-1)]: Done 3192 tasks      | elapsed: 19.0min\n",
      "[Parallel(n_jobs=-1)]: Done 3375 out of 3375 | elapsed: 20.7min finished\n"
     ]
    },
    {
     "name": "stdout",
     "output_type": "stream",
     "text": [
      ">>> best score: 0.7746022798772978\n",
      ">>> best estimator: GradientBoostingClassifier(ccp_alpha=0.0, criterion='friedman_mse', init=None,\n",
      "                           learning_rate=0.05, loss='deviance', max_depth=3,\n",
      "                           max_features=None, max_leaf_nodes=None,\n",
      "                           min_impurity_decrease=0.0, min_impurity_split=None,\n",
      "                           min_samples_leaf=1, min_samples_split=2,\n",
      "                           min_weight_fraction_leaf=0.0, n_estimators=800,\n",
      "                           n_iter_no_change=None, presort='deprecated',\n",
      "                           random_state=0, subsample=1.0, tol=0.0001,\n",
      "                           validation_fraction=0.1, verbose=0,\n",
      "                           warm_start=False)\n"
     ]
    }
   ],
   "source": [
    "from sklearn.model_selection import GridSearchCV\n",
    "\n",
    "param = {\n",
    "    'learning_rate':[0.05, 0.1, 0.4, 0.7, 1.0],\n",
    "    'n_estimators':list(range(200, 1100, 200)),\n",
    "    'subsample':[0.4, 0.7, 1.0],\n",
    "    'min_samples_split':[2, 6, 10],\n",
    "    'max_depth':[2, 3, 5]\n",
    "}\n",
    "\n",
    "kfold5 = StratifiedKFold(n_splits=5, shuffle=True, random_state=22)\n",
    "gd = GridSearchCV(estimator=GradientBoostingClassifier(random_state=0),\n",
    "                  param_grid=param, scoring='f1', n_jobs=-1,\n",
    "                  cv=kfold5, verbose=True)\n",
    "gd.fit(data.iloc[:,1:], data.Survived)\n",
    "\n",
    "print('>>> best score:', gd.best_score_)\n",
    "print('>>> best estimator:', gd.best_estimator_)"
   ]
  },
  {
   "cell_type": "markdown",
   "execution_count": null,
   "metadata": {},
   "source": [
    "- The maximum score(f1 score) with Stochastic Gradient Boosting is 0.759 (f1 score)<br>\n",
    "(Hyper-parameters : **learning_rate=0.05, n_estimators=800, subsample=1.0, min_samples_split=2, max_depth=3**)"
   ]
  },
  {
   "cell_type": "markdown",
   "execution_count": null,
   "metadata": {},
   "source": [
    "#### Confusion Matrix for the best model"
   ]
  },
  {
   "cell_type": "code",
   "execution_count": 28,
   "metadata": {},
   "outputs": [
    {
     "data": {
      "image/png": "[encoded data removed]",
      "text/plain": [
       "<Figure size 432x288 with 2 Axes>"
      ]
     },
     "metadata": {},
     "output_type": "display_data"
    }
   ],
   "source": [
    "from sklearn.model_selection import cross_val_predict\n",
    "from sklearn.metrics import confusion_matrix\n",
    "\n",
    "grad = GradientBoostingClassifier(learning_rate=0.05, n_estimators=800, subsample=1.0, min_samples_split=2, max_depth=3)\n",
    "\n",
    "prediction = cross_val_predict(grad, data.iloc[:, 1:], data.Survived, cv=kfold5)\n",
    "sns.heatmap(confusion_matrix(data.Survived, prediction),\n",
    "           cmap='winter', annot=True, fmt='2.0f')\n",
    "plt.show()"
   ]
  },
  {
   "cell_type": "code",
   "execution_count": null,
   "metadata": {},
   "outputs": [],
   "source": []
  }
 ],
 "metadata": {
  "kernelspec": {
   "display_name": "Python 3",
   "language": "python",
   "name": "python3"
  },
  "language_info": {
   "codemirror_mode": {
    "name": "ipython",
    "version": 3
   },
   "file_extension": ".py",
   "mimetype": "text/x-python",
   "name": "python",
   "nbconvert_exporter": "python",
   "pygments_lexer": "ipython3",
   "version": "3.7.6"
  }
 },
 "nbformat": 4,
 "nbformat_minor": 4
}
