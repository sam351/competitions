{
 "cells": [
  {
   "cell_type": "markdown",
   "metadata": {
    "papermill": {
     "duration": 0.003104,
     "end_time": "2020-09-20T05:48:54.285633",
     "exception": false,
     "start_time": "2020-09-20T05:48:54.282529",
     "status": "completed"
    },
    "tags": []
   },
   "source": [
    "## ref : https://www.kaggle.com/gaborfodor/from-eda-to-the-top-lb-0-367"
   ]
  },
  {
   "cell_type": "code",
   "execution_count": 1,
   "metadata": {
    "execution": {
     "iopub.execute_input": "2020-09-20T05:48:54.296915Z",
     "iopub.status.busy": "2020-09-20T05:48:54.296399Z",
     "iopub.status.idle": "2020-09-20T05:48:56.113105Z",
     "shell.execute_reply": "2020-09-20T05:48:56.112453Z"
    },
    "papermill": {
     "duration": 1.825164,
     "end_time": "2020-09-20T05:48:56.113218",
     "exception": false,
     "start_time": "2020-09-20T05:48:54.288054",
     "status": "completed"
    },
    "tags": []
   },
   "outputs": [
    {
     "name": "stdout",
     "output_type": "stream",
     "text": [
      "/kaggle/input/nyc-taxi-trip-duration/sample_submission.zip\n",
      "/kaggle/input/nyc-taxi-trip-duration/test.zip\n",
      "/kaggle/input/nyc-taxi-trip-duration/train.zip\n",
      "/kaggle/input/new-york-city-taxi-with-osrm/fastest_routes_test.csv\n",
      "/kaggle/input/new-york-city-taxi-with-osrm/accidents_2016.csv\n",
      "/kaggle/input/new-york-city-taxi-with-osrm/fastest_routes_train_part_2.csv\n",
      "/kaggle/input/new-york-city-taxi-with-osrm/second_fastest_routes_train.csv\n",
      "/kaggle/input/new-york-city-taxi-with-osrm/fastest_routes_train_part_1.csv\n",
      "/kaggle/input/new-york-city-taxi-with-osrm/second_fastest_routes_test.csv\n",
      "/kaggle/input/new-york-city-taxi-with-osrm/test.csv\n",
      "/kaggle/input/new-york-city-taxi-with-osrm/train.csv\n"
     ]
    }
   ],
   "source": [
    "import numpy\n",
    "import pandas as pd\n",
    "\n",
    "import datetime\n",
    "from datetime import timedelta\n",
    "\n",
    "import seaborn as sns\n",
    "import matplotlib.pyplot as plt\n",
    "# plt.rcParams['figure.figsize'] = [16, 10]\n",
    "\n",
    "import xgboost as xgb\n",
    "from sklearn.model_selection import train_test_split\n",
    "from sklearn.decomposition import PCA\n",
    "from sklearn.cluster import MiniBatchKMeans\n",
    "\n",
    "\n",
    "import os\n",
    "for dirname, _, filenames in os.walk('/kaggle/input'):\n",
    "    for filename in filenames:\n",
    "        print(os.path.join(dirname, filename))\n",
    "\n",
    "# You can write up to 5GB to the current directory (/kaggle/working/) that gets preserved as output when you create a version using \"Save & Run All\" \n",
    "# You can also write temporary files to /kaggle/temp/, but they won't be saved outside of the current session"
   ]
  },
  {
   "cell_type": "code",
   "execution_count": null,
   "metadata": {
    "papermill": {
     "duration": 0.002425,
     "end_time": "2020-09-20T05:48:56.118952",
     "exception": false,
     "start_time": "2020-09-20T05:48:56.116527",
     "status": "completed"
    },
    "tags": []
   },
   "outputs": [],
   "source": []
  }
 ],
 "metadata": {
  "kernelspec": {
   "display_name": "Python 3",
   "language": "python",
   "name": "python3"
  },
  "language_info": {
   "codemirror_mode": {
    "name": "ipython",
    "version": 3
   },
   "file_extension": ".py",
   "mimetype": "text/x-python",
   "name": "python",
   "nbconvert_exporter": "python",
   "pygments_lexer": "ipython3",
   "version": "3.7.6"
  },
  "papermill": {
   "duration": 11.804629,
   "end_time": "2020-09-20T05:48:56.228411",
   "environment_variables": {},
   "exception": null,
   "input_path": "__notebook__.ipynb",
   "output_path": "__notebook__.ipynb",
   "parameters": {},
   "start_time": "2020-09-20T05:48:44.423782",
   "version": "2.1.0"
  }
 },
 "nbformat": 4,
 "nbformat_minor": 4
}
