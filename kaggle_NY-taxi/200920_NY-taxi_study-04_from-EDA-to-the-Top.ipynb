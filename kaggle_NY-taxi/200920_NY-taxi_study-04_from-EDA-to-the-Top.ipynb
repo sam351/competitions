{
 "cells": [
  {
   "cell_type": "markdown",
   "metadata": {
    "papermill": {
     "duration": 0.009574,
     "end_time": "2020-09-21T15:10:12.016897",
     "exception": false,
     "start_time": "2020-09-21T15:10:12.007323",
     "status": "completed"
    },
    "tags": []
   },
   "source": [
    "## ref : https://www.kaggle.com/gaborfodor/from-eda-to-the-top-lb-0-367"
   ]
  },
  {
   "cell_type": "code",
   "execution_count": 1,
   "metadata": {
    "execution": {
     "iopub.execute_input": "2020-09-21T15:10:12.046600Z",
     "iopub.status.busy": "2020-09-21T15:10:12.045637Z",
     "iopub.status.idle": "2020-09-21T15:10:14.293035Z",
     "shell.execute_reply": "2020-09-21T15:10:14.291921Z"
    },
    "papermill": {
     "duration": 2.267551,
     "end_time": "2020-09-21T15:10:14.293268",
     "exception": false,
     "start_time": "2020-09-21T15:10:12.025717",
     "status": "completed"
    },
    "tags": []
   },
   "outputs": [
    {
     "name": "stdout",
     "output_type": "stream",
     "text": [
      "/kaggle/input/new-york-city-taxi-with-osrm/second_fastest_routes_test.csv\n",
      "/kaggle/input/new-york-city-taxi-with-osrm/accidents_2016.csv\n",
      "/kaggle/input/new-york-city-taxi-with-osrm/train.csv\n",
      "/kaggle/input/new-york-city-taxi-with-osrm/fastest_routes_train_part_2.csv\n",
      "/kaggle/input/new-york-city-taxi-with-osrm/fastest_routes_test.csv\n",
      "/kaggle/input/new-york-city-taxi-with-osrm/test.csv\n",
      "/kaggle/input/new-york-city-taxi-with-osrm/fastest_routes_train_part_1.csv\n",
      "/kaggle/input/new-york-city-taxi-with-osrm/second_fastest_routes_train.csv\n",
      "/kaggle/input/nyc-taxi-trip-duration/test.zip\n",
      "/kaggle/input/nyc-taxi-trip-duration/sample_submission.zip\n",
      "/kaggle/input/nyc-taxi-trip-duration/train.zip\n"
     ]
    }
   ],
   "source": [
    "import numpy as np\n",
    "import pandas as pd\n",
    "\n",
    "import datetime\n",
    "from datetime import timedelta\n",
    "\n",
    "import seaborn as sns\n",
    "import matplotlib.pyplot as plt\n",
    "# plt.rcParams['figure.figsize'] = [16, 10]\n",
    "\n",
    "import xgboost as xgb\n",
    "from sklearn.model_selection import train_test_split\n",
    "from sklearn.decomposition import PCA\n",
    "from sklearn.cluster import MiniBatchKMeans\n",
    "\n",
    "\n",
    "import os\n",
    "for dirname, _, filenames in os.walk('/kaggle/input'):\n",
    "    for filename in filenames:\n",
    "        print(os.path.join(dirname, filename))\n",
    "\n",
    "# You can write up to 5GB to the current directory (/kaggle/working/) that gets preserved as output when you create a version using \"Save & Run All\" \n",
    "# You can also write temporary files to /kaggle/temp/, but they won't be saved outside of the current session\n",
    "\n",
    "\n",
    "def show_table(df, sample_num=4):\n",
    "    tail_num = sample_num//2\n",
    "    head_num = sample_num-tail_num\n",
    "    \n",
    "    print('>>> shape :', df.shape)\n",
    "    print('>>> number of NA :', df.isna().sum().sum())\n",
    "    display(pd.concat([df.head(head_num), df.tail(tail_num)]))"
   ]
  },
  {
   "cell_type": "markdown",
   "metadata": {
    "papermill": {
     "duration": 0.008836,
     "end_time": "2020-09-21T15:10:14.312374",
     "exception": false,
     "start_time": "2020-09-21T15:10:14.303538",
     "status": "completed"
    },
    "tags": []
   },
   "source": [
    "## Data Understanding"
   ]
  },
  {
   "cell_type": "code",
   "execution_count": 2,
   "metadata": {
    "execution": {
     "iopub.execute_input": "2020-09-21T15:10:14.344002Z",
     "iopub.status.busy": "2020-09-21T15:10:14.343178Z",
     "iopub.status.idle": "2020-09-21T15:10:23.640282Z",
     "shell.execute_reply": "2020-09-21T15:10:23.640894Z"
    },
    "papermill": {
     "duration": 9.319685,
     "end_time": "2020-09-21T15:10:23.641138",
     "exception": false,
     "start_time": "2020-09-21T15:10:14.321453",
     "status": "completed"
    },
    "tags": []
   },
   "outputs": [
    {
     "name": "stdout",
     "output_type": "stream",
     "text": [
      "< Train dataset >\n",
      ">>> shape : (1458644, 11)\n",
      ">>> number of NA : 0\n"
     ]
    },
    {
     "data": {
      "text/html": [
       "<div>\n",
       "<style scoped>\n",
       "    .dataframe tbody tr th:only-of-type {\n",
       "        vertical-align: middle;\n",
       "    }\n",
       "\n",
       "    .dataframe tbody tr th {\n",
       "        vertical-align: top;\n",
       "    }\n",
       "\n",
       "    .dataframe thead th {\n",
       "        text-align: right;\n",
       "    }\n",
       "</style>\n",
       "<table border=\"1\" class=\"dataframe\">\n",
       "  <thead>\n",
       "    <tr style=\"text-align: right;\">\n",
       "      <th></th>\n",
       "      <th>id</th>\n",
       "      <th>vendor_id</th>\n",
       "      <th>pickup_datetime</th>\n",
       "      <th>dropoff_datetime</th>\n",
       "      <th>passenger_count</th>\n",
       "      <th>pickup_longitude</th>\n",
       "      <th>pickup_latitude</th>\n",
       "      <th>dropoff_longitude</th>\n",
       "      <th>dropoff_latitude</th>\n",
       "      <th>store_and_fwd_flag</th>\n",
       "      <th>trip_duration</th>\n",
       "    </tr>\n",
       "  </thead>\n",
       "  <tbody>\n",
       "    <tr>\n",
       "      <th>0</th>\n",
       "      <td>id2875421</td>\n",
       "      <td>2</td>\n",
       "      <td>2016-03-14 17:24:55</td>\n",
       "      <td>2016-03-14 17:32:30</td>\n",
       "      <td>1</td>\n",
       "      <td>-73.982155</td>\n",
       "      <td>40.767937</td>\n",
       "      <td>-73.964630</td>\n",
       "      <td>40.765602</td>\n",
       "      <td>N</td>\n",
       "      <td>455</td>\n",
       "    </tr>\n",
       "    <tr>\n",
       "      <th>1</th>\n",
       "      <td>id2377394</td>\n",
       "      <td>1</td>\n",
       "      <td>2016-06-12 00:43:35</td>\n",
       "      <td>2016-06-12 00:54:38</td>\n",
       "      <td>1</td>\n",
       "      <td>-73.980415</td>\n",
       "      <td>40.738564</td>\n",
       "      <td>-73.999481</td>\n",
       "      <td>40.731152</td>\n",
       "      <td>N</td>\n",
       "      <td>663</td>\n",
       "    </tr>\n",
       "    <tr>\n",
       "      <th>1458642</th>\n",
       "      <td>id2714485</td>\n",
       "      <td>1</td>\n",
       "      <td>2016-01-05 15:56:26</td>\n",
       "      <td>2016-01-05 16:02:39</td>\n",
       "      <td>1</td>\n",
       "      <td>-73.982079</td>\n",
       "      <td>40.749062</td>\n",
       "      <td>-73.974632</td>\n",
       "      <td>40.757107</td>\n",
       "      <td>N</td>\n",
       "      <td>373</td>\n",
       "    </tr>\n",
       "    <tr>\n",
       "      <th>1458643</th>\n",
       "      <td>id1209952</td>\n",
       "      <td>1</td>\n",
       "      <td>2016-04-05 14:44:25</td>\n",
       "      <td>2016-04-05 14:47:43</td>\n",
       "      <td>1</td>\n",
       "      <td>-73.979538</td>\n",
       "      <td>40.781750</td>\n",
       "      <td>-73.972809</td>\n",
       "      <td>40.790585</td>\n",
       "      <td>N</td>\n",
       "      <td>198</td>\n",
       "    </tr>\n",
       "  </tbody>\n",
       "</table>\n",
       "</div>"
      ],
      "text/plain": [
       "                id  vendor_id      pickup_datetime     dropoff_datetime  \\\n",
       "0        id2875421          2  2016-03-14 17:24:55  2016-03-14 17:32:30   \n",
       "1        id2377394          1  2016-06-12 00:43:35  2016-06-12 00:54:38   \n",
       "1458642  id2714485          1  2016-01-05 15:56:26  2016-01-05 16:02:39   \n",
       "1458643  id1209952          1  2016-04-05 14:44:25  2016-04-05 14:47:43   \n",
       "\n",
       "         passenger_count  pickup_longitude  pickup_latitude  \\\n",
       "0                      1        -73.982155        40.767937   \n",
       "1                      1        -73.980415        40.738564   \n",
       "1458642                1        -73.982079        40.749062   \n",
       "1458643                1        -73.979538        40.781750   \n",
       "\n",
       "         dropoff_longitude  dropoff_latitude store_and_fwd_flag  trip_duration  \n",
       "0               -73.964630         40.765602                  N            455  \n",
       "1               -73.999481         40.731152                  N            663  \n",
       "1458642         -73.974632         40.757107                  N            373  \n",
       "1458643         -73.972809         40.790585                  N            198  "
      ]
     },
     "metadata": {},
     "output_type": "display_data"
    },
    {
     "name": "stdout",
     "output_type": "stream",
     "text": [
      "\n",
      "\n",
      "< Test dataset >\n",
      ">>> shape : (625134, 9)\n",
      ">>> number of NA : 0\n"
     ]
    },
    {
     "data": {
      "text/html": [
       "<div>\n",
       "<style scoped>\n",
       "    .dataframe tbody tr th:only-of-type {\n",
       "        vertical-align: middle;\n",
       "    }\n",
       "\n",
       "    .dataframe tbody tr th {\n",
       "        vertical-align: top;\n",
       "    }\n",
       "\n",
       "    .dataframe thead th {\n",
       "        text-align: right;\n",
       "    }\n",
       "</style>\n",
       "<table border=\"1\" class=\"dataframe\">\n",
       "  <thead>\n",
       "    <tr style=\"text-align: right;\">\n",
       "      <th></th>\n",
       "      <th>id</th>\n",
       "      <th>vendor_id</th>\n",
       "      <th>pickup_datetime</th>\n",
       "      <th>passenger_count</th>\n",
       "      <th>pickup_longitude</th>\n",
       "      <th>pickup_latitude</th>\n",
       "      <th>dropoff_longitude</th>\n",
       "      <th>dropoff_latitude</th>\n",
       "      <th>store_and_fwd_flag</th>\n",
       "    </tr>\n",
       "  </thead>\n",
       "  <tbody>\n",
       "    <tr>\n",
       "      <th>0</th>\n",
       "      <td>id3004672</td>\n",
       "      <td>1</td>\n",
       "      <td>2016-06-30 23:59:58</td>\n",
       "      <td>1</td>\n",
       "      <td>-73.988129</td>\n",
       "      <td>40.732029</td>\n",
       "      <td>-73.990173</td>\n",
       "      <td>40.756680</td>\n",
       "      <td>N</td>\n",
       "    </tr>\n",
       "    <tr>\n",
       "      <th>1</th>\n",
       "      <td>id3505355</td>\n",
       "      <td>1</td>\n",
       "      <td>2016-06-30 23:59:53</td>\n",
       "      <td>1</td>\n",
       "      <td>-73.964203</td>\n",
       "      <td>40.679993</td>\n",
       "      <td>-73.959808</td>\n",
       "      <td>40.655403</td>\n",
       "      <td>N</td>\n",
       "    </tr>\n",
       "    <tr>\n",
       "      <th>625132</th>\n",
       "      <td>id1384355</td>\n",
       "      <td>1</td>\n",
       "      <td>2016-01-01 00:00:28</td>\n",
       "      <td>1</td>\n",
       "      <td>-73.976501</td>\n",
       "      <td>40.733562</td>\n",
       "      <td>-73.854263</td>\n",
       "      <td>40.891788</td>\n",
       "      <td>N</td>\n",
       "    </tr>\n",
       "    <tr>\n",
       "      <th>625133</th>\n",
       "      <td>id0621643</td>\n",
       "      <td>2</td>\n",
       "      <td>2016-01-01 00:00:22</td>\n",
       "      <td>2</td>\n",
       "      <td>-73.981850</td>\n",
       "      <td>40.716881</td>\n",
       "      <td>-73.969330</td>\n",
       "      <td>40.769379</td>\n",
       "      <td>N</td>\n",
       "    </tr>\n",
       "  </tbody>\n",
       "</table>\n",
       "</div>"
      ],
      "text/plain": [
       "               id  vendor_id      pickup_datetime  passenger_count  \\\n",
       "0       id3004672          1  2016-06-30 23:59:58                1   \n",
       "1       id3505355          1  2016-06-30 23:59:53                1   \n",
       "625132  id1384355          1  2016-01-01 00:00:28                1   \n",
       "625133  id0621643          2  2016-01-01 00:00:22                2   \n",
       "\n",
       "        pickup_longitude  pickup_latitude  dropoff_longitude  \\\n",
       "0             -73.988129        40.732029         -73.990173   \n",
       "1             -73.964203        40.679993         -73.959808   \n",
       "625132        -73.976501        40.733562         -73.854263   \n",
       "625133        -73.981850        40.716881         -73.969330   \n",
       "\n",
       "        dropoff_latitude store_and_fwd_flag  \n",
       "0              40.756680                  N  \n",
       "1              40.655403                  N  \n",
       "625132         40.891788                  N  \n",
       "625133         40.769379                  N  "
      ]
     },
     "metadata": {},
     "output_type": "display_data"
    }
   ],
   "source": [
    "train = pd.read_csv('../input/nyc-taxi-trip-duration/train.zip')\n",
    "test = pd.read_csv('../input/nyc-taxi-trip-duration/test.zip')\n",
    "sample_submission = pd.read_csv('../input/nyc-taxi-trip-duration/sample_submission.zip')\n",
    "\n",
    "print('< Train dataset >')\n",
    "show_table(train, sample_num=4)\n",
    "\n",
    "print('\\n\\n< Test dataset >')\n",
    "show_table(test)"
   ]
  },
  {
   "cell_type": "markdown",
   "metadata": {
    "papermill": {
     "duration": 0.011539,
     "end_time": "2020-09-21T15:10:23.665084",
     "exception": false,
     "start_time": "2020-09-21T15:10:23.653545",
     "status": "completed"
    },
    "tags": []
   },
   "source": [
    "- Columns 'dropoff_datetime' and 'trip_duration' are only available in train dataset."
   ]
  },
  {
   "cell_type": "code",
   "execution_count": 3,
   "metadata": {
    "execution": {
     "iopub.execute_input": "2020-09-21T15:10:23.765291Z",
     "iopub.status.busy": "2020-09-21T15:10:23.764580Z",
     "iopub.status.idle": "2020-09-21T15:10:38.302621Z",
     "shell.execute_reply": "2020-09-21T15:10:38.303251Z"
    },
    "papermill": {
     "duration": 14.626194,
     "end_time": "2020-09-21T15:10:38.303409",
     "exception": false,
     "start_time": "2020-09-21T15:10:23.677215",
     "status": "completed"
    },
    "tags": []
   },
   "outputs": [
    {
     "name": "stdout",
     "output_type": "stream",
     "text": [
      "id is unique\n",
      "Train and Test datasets are distinct\n",
      "Number of NA in train dataset : 0\n",
      "Number of NA in test dataset : 0\n",
      "\n",
      "Unique values in store_and_fwd_flag : ['N' 'Y']\n",
      "Min trip_duration (sec) : 1\n",
      "Max trip_duration (sec) : 3526282\n",
      "Max trip_duration (hour) : 979.52\n"
     ]
    }
   ],
   "source": [
    "print('id is unique') if train['id'].nunique() == train.shape[0] else print('There is redundant id')\n",
    "print('Train and Test datasets are distinct') if np.intersect1d( train['id'], test['id'] ).shape[0]==0 else print('There is redundant id between train and test datasets')\n",
    "print('Number of NA in train dataset :', train.isna().sum().sum())\n",
    "print('Number of NA in test dataset :', test.isna().sum().sum())\n",
    "print()\n",
    "print('Unique values in store_and_fwd_flag :', pd.concat([train['store_and_fwd_flag'], test['store_and_fwd_flag']]).unique())\n",
    "print('Min trip_duration (sec) :', train['trip_duration'].min())\n",
    "print('Max trip_duration (sec) :', train['trip_duration'].max())\n",
    "print(f'Max trip_duration (hour) : {train[\"trip_duration\"].max()/3600:.2f}')"
   ]
  },
  {
   "cell_type": "code",
   "execution_count": 4,
   "metadata": {
    "execution": {
     "iopub.execute_input": "2020-09-21T15:10:38.348664Z",
     "iopub.status.busy": "2020-09-21T15:10:38.347592Z",
     "iopub.status.idle": "2020-09-21T15:10:38.352910Z",
     "shell.execute_reply": "2020-09-21T15:10:38.352266Z"
    },
    "papermill": {
     "duration": 0.036041,
     "end_time": "2020-09-21T15:10:38.353043",
     "exception": false,
     "start_time": "2020-09-21T15:10:38.317002",
     "status": "completed"
    },
    "tags": []
   },
   "outputs": [
    {
     "data": {
      "text/html": [
       "<div>\n",
       "<style scoped>\n",
       "    .dataframe tbody tr th:only-of-type {\n",
       "        vertical-align: middle;\n",
       "    }\n",
       "\n",
       "    .dataframe tbody tr th {\n",
       "        vertical-align: top;\n",
       "    }\n",
       "\n",
       "    .dataframe thead th {\n",
       "        text-align: right;\n",
       "    }\n",
       "</style>\n",
       "<table border=\"1\" class=\"dataframe\">\n",
       "  <thead>\n",
       "    <tr style=\"text-align: right;\">\n",
       "      <th></th>\n",
       "      <th>id</th>\n",
       "      <th>vendor_id</th>\n",
       "      <th>pickup_datetime</th>\n",
       "      <th>dropoff_datetime</th>\n",
       "      <th>passenger_count</th>\n",
       "      <th>pickup_longitude</th>\n",
       "      <th>pickup_latitude</th>\n",
       "      <th>dropoff_longitude</th>\n",
       "      <th>dropoff_latitude</th>\n",
       "      <th>store_and_fwd_flag</th>\n",
       "      <th>trip_duration</th>\n",
       "    </tr>\n",
       "  </thead>\n",
       "  <tbody>\n",
       "    <tr>\n",
       "      <th>0</th>\n",
       "      <td>object</td>\n",
       "      <td>int64</td>\n",
       "      <td>object</td>\n",
       "      <td>object</td>\n",
       "      <td>int64</td>\n",
       "      <td>float64</td>\n",
       "      <td>float64</td>\n",
       "      <td>float64</td>\n",
       "      <td>float64</td>\n",
       "      <td>object</td>\n",
       "      <td>int64</td>\n",
       "    </tr>\n",
       "  </tbody>\n",
       "</table>\n",
       "</div>"
      ],
      "text/plain": [
       "       id vendor_id pickup_datetime dropoff_datetime passenger_count  \\\n",
       "0  object     int64          object           object           int64   \n",
       "\n",
       "  pickup_longitude pickup_latitude dropoff_longitude dropoff_latitude  \\\n",
       "0          float64         float64           float64          float64   \n",
       "\n",
       "  store_and_fwd_flag trip_duration  \n",
       "0             object         int64  "
      ]
     },
     "execution_count": 4,
     "metadata": {},
     "output_type": "execute_result"
    }
   ],
   "source": [
    "train.dtypes.to_frame().T"
   ]
  },
  {
   "cell_type": "markdown",
   "metadata": {
    "papermill": {
     "duration": 0.013652,
     "end_time": "2020-09-21T15:10:38.381158",
     "exception": false,
     "start_time": "2020-09-21T15:10:38.367506",
     "status": "completed"
    },
    "tags": []
   },
   "source": [
    "## Converting data types & Check the target feature"
   ]
  },
  {
   "cell_type": "code",
   "execution_count": 5,
   "metadata": {
    "execution": {
     "iopub.execute_input": "2020-09-21T15:10:38.931044Z",
     "iopub.status.busy": "2020-09-21T15:10:38.418219Z",
     "iopub.status.idle": "2020-09-21T15:11:01.469941Z",
     "shell.execute_reply": "2020-09-21T15:11:01.470543Z"
    },
    "papermill": {
     "duration": 23.075797,
     "end_time": "2020-09-21T15:11:01.470789",
     "exception": false,
     "start_time": "2020-09-21T15:10:38.394992",
     "status": "completed"
    },
    "tags": []
   },
   "outputs": [
    {
     "name": "stdout",
     "output_type": "stream",
     "text": [
      ">>> duration and datetime are ok\n",
      ">>> Max trip_duration : 979\n"
     ]
    }
   ],
   "source": [
    "train['pickup_datetime'] = pd.to_datetime(train['pickup_datetime'])\n",
    "train['dropoff_datetime'] = pd.to_datetime(train['dropoff_datetime'])\n",
    "test['pickup_datetime'] = pd.to_datetime(test['pickup_datetime'])\n",
    "\n",
    "train['check_trip_duration'] = train['dropoff_datetime'].subtract(train['pickup_datetime']).map(lambda x : x.total_seconds())\n",
    "check_duration_diff = np.abs(train['check_trip_duration'].values - train['trip_duration'].values) > 1\n",
    "print('>>> Warning! Check the difference between duration and datetime') if np.any(check_duration_diff) else print('>>> duration and datetime are ok')\n",
    "\n",
    "print('>>> Max trip_duration :', train['trip_duration'].max()//3600)"
   ]
  },
  {
   "cell_type": "markdown",
   "metadata": {
    "papermill": {
     "duration": 0.014623,
     "end_time": "2020-09-21T15:11:01.500211",
     "exception": false,
     "start_time": "2020-09-21T15:11:01.485588",
     "status": "completed"
    },
    "tags": []
   },
   "source": [
    "We can see that max trip duration is around 1000 hours. Fortunately, the evaluation metric is RMSLE, not RMSE. Outliers will cause less trouble. We could logtransform the target feature and use RMSE during training."
   ]
  },
  {
   "cell_type": "markdown",
   "metadata": {
    "papermill": {
     "duration": 0.014425,
     "end_time": "2020-09-21T15:11:01.529458",
     "exception": false,
     "start_time": "2020-09-21T15:11:01.515033",
     "status": "completed"
    },
    "tags": []
   },
   "source": [
    "## Check the distribution of target feature (trip_duration, log_trip_duration)"
   ]
  },
  {
   "cell_type": "code",
   "execution_count": 6,
   "metadata": {
    "execution": {
     "iopub.execute_input": "2020-09-21T15:11:01.563915Z",
     "iopub.status.busy": "2020-09-21T15:11:01.563156Z",
     "iopub.status.idle": "2020-09-21T15:11:02.236724Z",
     "shell.execute_reply": "2020-09-21T15:11:02.235742Z"
    },
    "papermill": {
     "duration": 0.692596,
     "end_time": "2020-09-21T15:11:02.236879",
     "exception": false,
     "start_time": "2020-09-21T15:11:01.544283",
     "status": "completed"
    },
    "tags": []
   },
   "outputs": [
    {
     "data": {
      "image/png": "[encoded data removed]",
      "text/plain": [
       "<Figure size 1008x288 with 2 Axes>"
      ]
     },
     "metadata": {
      "needs_background": "light"
     },
     "output_type": "display_data"
    }
   ],
   "source": [
    "train['log_trip_duration'] = np.log1p(train['trip_duration'])\n",
    "\n",
    "\n",
    "fig, ax = plt.subplots(1, 2, figsize=(14, 4))\n",
    "\n",
    "ax[0].hist(train['trip_duration'])\n",
    "ax[0].set_title('Distribution of trip_duration')\n",
    "ax[0].set_xlabel('trip_duration')\n",
    "ax[0].set_ylabel('number of records')\n",
    "\n",
    "ax[1].hist(train['log_trip_duration'], bins=100)\n",
    "ax[1].set_title('Distribution of log_trip_duration')\n",
    "ax[1].set_xlabel('log(trip_duration)')\n",
    "\n",
    "plt.show()"
   ]
  },
  {
   "cell_type": "code",
   "execution_count": null,
   "metadata": {
    "papermill": {
     "duration": 0.017617,
     "end_time": "2020-09-21T15:11:02.270326",
     "exception": false,
     "start_time": "2020-09-21T15:11:02.252709",
     "status": "completed"
    },
    "tags": []
   },
   "outputs": [],
   "source": []
  }
 ],
 "metadata": {
  "kernelspec": {
   "display_name": "Python 3",
   "language": "python",
   "name": "python3"
  },
  "language_info": {
   "codemirror_mode": {
    "name": "ipython",
    "version": 3
   },
   "file_extension": ".py",
   "mimetype": "text/x-python",
   "name": "python",
   "nbconvert_exporter": "python",
   "pygments_lexer": "ipython3",
   "version": "3.7.6"
  },
  "papermill": {
   "duration": 62.609365,
   "end_time": "2020-09-21T15:11:02.393107",
   "environment_variables": {},
   "exception": null,
   "input_path": "__notebook__.ipynb",
   "output_path": "__notebook__.ipynb",
   "parameters": {},
   "start_time": "2020-09-21T15:09:59.783742",
   "version": "2.1.0"
  }
 },
 "nbformat": 4,
 "nbformat_minor": 4
}
