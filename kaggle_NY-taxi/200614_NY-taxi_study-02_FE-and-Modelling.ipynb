{
 "cells": [
  {
   "cell_type": "markdown",
   "execution_count": null,
   "metadata": {},
   "source": [
    "ref : https://www.kaggle.com/aiswaryaramachandran/eda-baseline-model-0-40-rmse"
   ]
  },
  {
   "cell_type": "markdown",
   "execution_count": null,
   "metadata": {},
   "source": [
    "Previous kernel(EDA) : https://www.kaggle.com/samkim7351/200603-ny-taxi-study-01-eda?scriptVersionId=35969066"
   ]
  },
  {
   "cell_type": "code",
   "execution_count": 1,
   "metadata": {
    "_cell_guid": "b1076dfc-b9ad-4769-8c92-a6c4dae69d19",
    "_uuid": "8f2839f25d086af736a60e9eeb907d3b93b6e0e5"
   },
   "outputs": [
    {
     "name": "stdout",
     "output_type": "stream",
     "text": [
      "/kaggle/input/nyc-taxi-trip-duration/sample_submission.zip\n",
      "/kaggle/input/nyc-taxi-trip-duration/train.zip\n",
      "/kaggle/input/nyc-taxi-trip-duration/test.zip\n"
     ]
    }
   ],
   "source": [
    "import numpy as np # linear algebra\n",
    "import pandas as pd # data processing, CSV file I/O (e.g. pd.read_csv)\n",
    "pd.set_option('display.max_columns', 500)\n",
    "pd.set_option('display.float_format', '{:.5f}'.format)\n",
    "\n",
    "from sklearn.cluster import KMeans\n",
    "from sklearn import preprocessing\n",
    "from sklearn.model_selection import train_test_split\n",
    "from sklearn import linear_model\n",
    "from sklearn.ensemble import RandomForestRegressor\n",
    "from sklearn.metrics import mean_squared_error\n",
    "\n",
    "import pickle\n",
    "from haversine import haversine_vector\n",
    "import pyproj\n",
    "\n",
    "import os\n",
    "for dirname, _, filenames in os.walk('/kaggle/input'):\n",
    "    for filename in filenames:\n",
    "        print(os.path.join(dirname, filename))"
   ]
  },
  {
   "cell_type": "markdown",
   "execution_count": null,
   "metadata": {},
   "source": [
    "## Load data"
   ]
  },
  {
   "cell_type": "code",
   "execution_count": 2,
   "metadata": {
    "_cell_guid": "79c7e3d0-c299-4dcb-8224-4455121ee9b0",
    "_uuid": "d629ff2d2480ee46fbb7e2d37f6b5fab8052498a"
   },
   "outputs": [
    {
     "name": "stdout",
     "output_type": "stream",
     "text": [
      "(1458644, 11)\n"
     ]
    },
    {
     "data": {
      "text/html": [
       "<div>\n",
       "<style scoped>\n",
       "    .dataframe tbody tr th:only-of-type {\n",
       "        vertical-align: middle;\n",
       "    }\n",
       "\n",
       "    .dataframe tbody tr th {\n",
       "        vertical-align: top;\n",
       "    }\n",
       "\n",
       "    .dataframe thead th {\n",
       "        text-align: right;\n",
       "    }\n",
       "</style>\n",
       "<table border=\"1\" class=\"dataframe\">\n",
       "  <thead>\n",
       "    <tr style=\"text-align: right;\">\n",
       "      <th></th>\n",
       "      <th>id</th>\n",
       "      <th>vendor_id</th>\n",
       "      <th>pickup_datetime</th>\n",
       "      <th>dropoff_datetime</th>\n",
       "      <th>passenger_count</th>\n",
       "      <th>pickup_longitude</th>\n",
       "      <th>pickup_latitude</th>\n",
       "      <th>dropoff_longitude</th>\n",
       "      <th>dropoff_latitude</th>\n",
       "      <th>store_and_fwd_flag</th>\n",
       "      <th>trip_duration</th>\n",
       "    </tr>\n",
       "  </thead>\n",
       "  <tbody>\n",
       "    <tr>\n",
       "      <th>0</th>\n",
       "      <td>id2875421</td>\n",
       "      <td>2</td>\n",
       "      <td>2016-03-14 17:24:55</td>\n",
       "      <td>2016-03-14 17:32:30</td>\n",
       "      <td>1</td>\n",
       "      <td>-73.98215</td>\n",
       "      <td>40.76794</td>\n",
       "      <td>-73.96463</td>\n",
       "      <td>40.76560</td>\n",
       "      <td>N</td>\n",
       "      <td>455</td>\n",
       "    </tr>\n",
       "    <tr>\n",
       "      <th>1</th>\n",
       "      <td>id2377394</td>\n",
       "      <td>1</td>\n",
       "      <td>2016-06-12 00:43:35</td>\n",
       "      <td>2016-06-12 00:54:38</td>\n",
       "      <td>1</td>\n",
       "      <td>-73.98042</td>\n",
       "      <td>40.73856</td>\n",
       "      <td>-73.99948</td>\n",
       "      <td>40.73115</td>\n",
       "      <td>N</td>\n",
       "      <td>663</td>\n",
       "    </tr>\n",
       "  </tbody>\n",
       "</table>\n",
       "</div>"
      ],
      "text/plain": [
       "          id  vendor_id      pickup_datetime     dropoff_datetime  \\\n",
       "0  id2875421          2  2016-03-14 17:24:55  2016-03-14 17:32:30   \n",
       "1  id2377394          1  2016-06-12 00:43:35  2016-06-12 00:54:38   \n",
       "\n",
       "   passenger_count  pickup_longitude  pickup_latitude  dropoff_longitude  \\\n",
       "0                1         -73.98215         40.76794          -73.96463   \n",
       "1                1         -73.98042         40.73856          -73.99948   \n",
       "\n",
       "   dropoff_latitude store_and_fwd_flag  trip_duration  \n",
       "0          40.76560                  N            455  \n",
       "1          40.73115                  N            663  "
      ]
     },
     "metadata": {},
     "output_type": "display_data"
    },
    {
     "name": "stdout",
     "output_type": "stream",
     "text": [
      "(625134, 9)\n"
     ]
    },
    {
     "data": {
      "text/html": [
       "<div>\n",
       "<style scoped>\n",
       "    .dataframe tbody tr th:only-of-type {\n",
       "        vertical-align: middle;\n",
       "    }\n",
       "\n",
       "    .dataframe tbody tr th {\n",
       "        vertical-align: top;\n",
       "    }\n",
       "\n",
       "    .dataframe thead th {\n",
       "        text-align: right;\n",
       "    }\n",
       "</style>\n",
       "<table border=\"1\" class=\"dataframe\">\n",
       "  <thead>\n",
       "    <tr style=\"text-align: right;\">\n",
       "      <th></th>\n",
       "      <th>id</th>\n",
       "      <th>vendor_id</th>\n",
       "      <th>pickup_datetime</th>\n",
       "      <th>passenger_count</th>\n",
       "      <th>pickup_longitude</th>\n",
       "      <th>pickup_latitude</th>\n",
       "      <th>dropoff_longitude</th>\n",
       "      <th>dropoff_latitude</th>\n",
       "      <th>store_and_fwd_flag</th>\n",
       "    </tr>\n",
       "  </thead>\n",
       "  <tbody>\n",
       "    <tr>\n",
       "      <th>0</th>\n",
       "      <td>id3004672</td>\n",
       "      <td>1</td>\n",
       "      <td>2016-06-30 23:59:58</td>\n",
       "      <td>1</td>\n",
       "      <td>-73.98813</td>\n",
       "      <td>40.73203</td>\n",
       "      <td>-73.99017</td>\n",
       "      <td>40.75668</td>\n",
       "      <td>N</td>\n",
       "    </tr>\n",
       "    <tr>\n",
       "      <th>1</th>\n",
       "      <td>id3505355</td>\n",
       "      <td>1</td>\n",
       "      <td>2016-06-30 23:59:53</td>\n",
       "      <td>1</td>\n",
       "      <td>-73.96420</td>\n",
       "      <td>40.67999</td>\n",
       "      <td>-73.95981</td>\n",
       "      <td>40.65540</td>\n",
       "      <td>N</td>\n",
       "    </tr>\n",
       "  </tbody>\n",
       "</table>\n",
       "</div>"
      ],
      "text/plain": [
       "          id  vendor_id      pickup_datetime  passenger_count  \\\n",
       "0  id3004672          1  2016-06-30 23:59:58                1   \n",
       "1  id3505355          1  2016-06-30 23:59:53                1   \n",
       "\n",
       "   pickup_longitude  pickup_latitude  dropoff_longitude  dropoff_latitude  \\\n",
       "0         -73.98813         40.73203          -73.99017          40.75668   \n",
       "1         -73.96420         40.67999          -73.95981          40.65540   \n",
       "\n",
       "  store_and_fwd_flag  \n",
       "0                  N  \n",
       "1                  N  "
      ]
     },
     "execution_count": 2,
     "metadata": {},
     "output_type": "execute_result"
    }
   ],
   "source": [
    "train = pd.read_csv('../input/nyc-taxi-trip-duration/train.zip')\n",
    "test = pd.read_csv('../input/nyc-taxi-trip-duration/test.zip')\n",
    "\n",
    "print(train.shape)\n",
    "display(train.head(2))\n",
    "\n",
    "print(test.shape)\n",
    "test.head(2)"
   ]
  },
  {
   "cell_type": "markdown",
   "execution_count": null,
   "metadata": {},
   "source": [
    "## Feature Engineering\n",
    "- I will drop unneeded column : dropoff_datetime. (from train dataset)\n",
    "- I will only keep lat lng rounded to third decimal places."
   ]
  },
  {
   "cell_type": "code",
   "execution_count": 3,
   "metadata": {},
   "outputs": [
    {
     "name": "stdout",
     "output_type": "stream",
     "text": [
      ">>> Droping column - dropoff_datetime\n",
      ">>> shape of train dataset changed from (1458644, 18) to (1458644, 18)\n"
     ]
    }
   ],
   "source": [
    "# wday_list = ['Sunday', 'Monday', 'Tuesday', 'Wednesday', 'Thursday', 'Friday', 'Saturday']\n",
    "# wday_dict = {key : idx for idx, key in enumerate(wday_list)}\n",
    "kmeans_pickup = KMeans(n_clusters=8, random_state=0).fit(train[['pickup_latitude', 'pickup_longitude']].values)\n",
    "kmeans_dropoff = KMeans(n_clusters=8, random_state=0).fit(train[['dropoff_latitude', 'dropoff_longitude']].values)\n",
    "\n",
    "def ftr_engineer(df, kmeans_pickup=kmeans_pickup, kmeans_dropoff=kmeans_dropoff):\n",
    "    # Drop unneeded column\n",
    "    if 'dropoff_datetime' in df.columns:\n",
    "        print('>>> Droping column - dropoff_datetime')\n",
    "        df = df.drop(columns='dropoff_datetime')\n",
    "        pass\n",
    "    \n",
    "    # Convert column to datetime\n",
    "    df['pickup_datetime'] = pd.to_datetime(df['pickup_datetime'])\n",
    "    \n",
    "    # Generate datetime related features\n",
    "    df['pickup_date'] = df['pickup_datetime'].dt.date\n",
    "    df['pickup_day'] = df['pickup_datetime'].dt.day\n",
    "    df['pickup_hour'] = df['pickup_datetime'].dt.hour\n",
    "    df['pickup_dayofweek'] = df['pickup_datetime'].dt.dayofweek\n",
    "    \n",
    "    # Round lat, lng columns to the third decimal place\n",
    "    for prefix in ['pickup', 'dropoff']:\n",
    "        df[f'{prefix}_longitude'] = df[f'{prefix}_longitude'].round(3)\n",
    "        df[f'{prefix}_latitude'] = df[f'{prefix}_latitude'].round(3)\n",
    "        pass\n",
    "    \n",
    "    # Generate trip_distance column\n",
    "    df['trip_distance'] = haversine_vector( df[['pickup_latitude', 'pickup_longitude']].to_numpy(),\n",
    "                                            df[['dropoff_latitude', 'dropoff_longitude']].to_numpy() )\n",
    "    \n",
    "    # Generate bearing column\n",
    "    df['bearing'] = pyproj.Geod(ellps='WGS84').inv( df['pickup_longitude'].to_numpy(), df['pickup_latitude'].to_numpy(),\n",
    "                                                    df['dropoff_longitude'].to_numpy(), df['dropoff_latitude'].to_numpy() )[0]\n",
    "    \n",
    "    # Generate cluster column\n",
    "    df['pickup_cluster'] = kmeans_pickup.predict(df[['pickup_latitude', 'pickup_longitude']].values)\n",
    "    df['dropoff_cluster'] = kmeans_dropoff.predict(df[['dropoff_latitude', 'dropoff_longitude']].values)\n",
    "    \n",
    "    return df\n",
    "\n",
    "\n",
    "bfr_shape = train.shape\n",
    "train = ftr_engineer(train)\n",
    "test = ftr_engineer(test)\n",
    "\n",
    "print(f'>>> shape of train dataset changed from {train.shape} to {train.shape}')"
   ]
  },
  {
   "cell_type": "code",
   "execution_count": null,
   "metadata": {},
   "outputs": [],
   "source": []
  }
 ],
 "metadata": {
  "kernelspec": {
   "display_name": "Python 3",
   "language": "python",
   "name": "python3"
  },
  "language_info": {
   "codemirror_mode": {
    "name": "ipython",
    "version": 3
   },
   "file_extension": ".py",
   "mimetype": "text/x-python",
   "name": "python",
   "nbconvert_exporter": "python",
   "pygments_lexer": "ipython3",
   "version": "3.7.6"
  }
 },
 "nbformat": 4,
 "nbformat_minor": 4
}
